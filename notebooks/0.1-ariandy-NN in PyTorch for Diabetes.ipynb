{
 "cells": [
  {
   "cell_type": "code",
   "execution_count": 1,
   "metadata": {},
   "outputs": [],
   "source": [
    "import sys\n",
    "sys.path.append('..')\n",
    "from src.func import iteratee\n",
    "\n",
    "import torch\n",
    "from torch import nn, optim\n",
    "from torch.utils.data import DataLoader, TensorDataset\n",
    "\n",
    "import numpy as np\n",
    "import pandas as pd\n",
    "from sklearn.model_selection import train_test_split\n",
    "from sklearn.preprocessing import MinMaxScaler\n",
    "from sklearn.pipeline import Pipeline\n",
    "from sklearn.impute import SimpleImputer\n",
    "from sklearn.compose import ColumnTransformer"
   ]
  },
  {
   "cell_type": "code",
   "execution_count": 2,
   "metadata": {},
   "outputs": [
    {
     "data": {
      "text/plain": [
       "device(type='cpu')"
      ]
     },
     "execution_count": 2,
     "metadata": {},
     "output_type": "execute_result"
    }
   ],
   "source": [
    "device = torch.device(\"cuda\" if torch.cuda.is_available() else \"cpu\")\n",
    "device"
   ]
  },
  {
   "cell_type": "markdown",
   "metadata": {},
   "source": [
    "# Import Data "
   ]
  },
  {
   "cell_type": "code",
   "execution_count": 3,
   "metadata": {},
   "outputs": [
    {
     "data": {
      "text/html": [
       "<div>\n",
       "<style scoped>\n",
       "    .dataframe tbody tr th:only-of-type {\n",
       "        vertical-align: middle;\n",
       "    }\n",
       "\n",
       "    .dataframe tbody tr th {\n",
       "        vertical-align: top;\n",
       "    }\n",
       "\n",
       "    .dataframe thead th {\n",
       "        text-align: right;\n",
       "    }\n",
       "</style>\n",
       "<table border=\"1\" class=\"dataframe\">\n",
       "  <thead>\n",
       "    <tr style=\"text-align: right;\">\n",
       "      <th></th>\n",
       "      <th>Pregnancies</th>\n",
       "      <th>Glucose</th>\n",
       "      <th>BloodPressure</th>\n",
       "      <th>SkinThickness</th>\n",
       "      <th>Insulin</th>\n",
       "      <th>BMI</th>\n",
       "      <th>DiabetesPedigreeFunction</th>\n",
       "      <th>Age</th>\n",
       "      <th>Outcome</th>\n",
       "    </tr>\n",
       "  </thead>\n",
       "  <tbody>\n",
       "    <tr>\n",
       "      <th>0</th>\n",
       "      <td>6</td>\n",
       "      <td>148</td>\n",
       "      <td>72</td>\n",
       "      <td>35</td>\n",
       "      <td>0</td>\n",
       "      <td>33.6</td>\n",
       "      <td>0.627</td>\n",
       "      <td>50</td>\n",
       "      <td>1</td>\n",
       "    </tr>\n",
       "    <tr>\n",
       "      <th>1</th>\n",
       "      <td>1</td>\n",
       "      <td>85</td>\n",
       "      <td>66</td>\n",
       "      <td>29</td>\n",
       "      <td>0</td>\n",
       "      <td>26.6</td>\n",
       "      <td>0.351</td>\n",
       "      <td>31</td>\n",
       "      <td>0</td>\n",
       "    </tr>\n",
       "    <tr>\n",
       "      <th>2</th>\n",
       "      <td>8</td>\n",
       "      <td>183</td>\n",
       "      <td>64</td>\n",
       "      <td>0</td>\n",
       "      <td>0</td>\n",
       "      <td>23.3</td>\n",
       "      <td>0.672</td>\n",
       "      <td>32</td>\n",
       "      <td>1</td>\n",
       "    </tr>\n",
       "    <tr>\n",
       "      <th>3</th>\n",
       "      <td>1</td>\n",
       "      <td>89</td>\n",
       "      <td>66</td>\n",
       "      <td>23</td>\n",
       "      <td>94</td>\n",
       "      <td>28.1</td>\n",
       "      <td>0.167</td>\n",
       "      <td>21</td>\n",
       "      <td>0</td>\n",
       "    </tr>\n",
       "    <tr>\n",
       "      <th>4</th>\n",
       "      <td>0</td>\n",
       "      <td>137</td>\n",
       "      <td>40</td>\n",
       "      <td>35</td>\n",
       "      <td>168</td>\n",
       "      <td>43.1</td>\n",
       "      <td>2.288</td>\n",
       "      <td>33</td>\n",
       "      <td>1</td>\n",
       "    </tr>\n",
       "  </tbody>\n",
       "</table>\n",
       "</div>"
      ],
      "text/plain": [
       "   Pregnancies  Glucose  BloodPressure  SkinThickness  Insulin   BMI  \\\n",
       "0            6      148             72             35        0  33.6   \n",
       "1            1       85             66             29        0  26.6   \n",
       "2            8      183             64              0        0  23.3   \n",
       "3            1       89             66             23       94  28.1   \n",
       "4            0      137             40             35      168  43.1   \n",
       "\n",
       "   DiabetesPedigreeFunction  Age  Outcome  \n",
       "0                     0.627   50        1  \n",
       "1                     0.351   31        0  \n",
       "2                     0.672   32        1  \n",
       "3                     0.167   21        0  \n",
       "4                     2.288   33        1  "
      ]
     },
     "execution_count": 3,
     "metadata": {},
     "output_type": "execute_result"
    }
   ],
   "source": [
    "df = pd.read_csv(\"../data/raw/diabetes.csv\")\n",
    "df.head()"
   ]
  },
  {
   "cell_type": "code",
   "execution_count": 4,
   "metadata": {},
   "outputs": [],
   "source": [
    "df.drop(columns=\"Insulin\", inplace=True)"
   ]
  },
  {
   "cell_type": "markdown",
   "metadata": {},
   "source": [
    "# Dataset Splitting "
   ]
  },
  {
   "cell_type": "code",
   "execution_count": 5,
   "metadata": {},
   "outputs": [
    {
     "data": {
      "text/plain": [
       "((614, 7), (154, 7), (614,), (154,))"
      ]
     },
     "execution_count": 5,
     "metadata": {},
     "output_type": "execute_result"
    }
   ],
   "source": [
    "X = df.drop(columns=\"Outcome\")\n",
    "y = df['Outcome'].values # .values digunakan karena Series/DataFrame pandas tidak bisa dikonversi ke Tensor\n",
    "\n",
    "X_train, X_test, y_train, y_test = train_test_split(X, y, test_size=0.2, stratify=y, random_state=42)\n",
    "X_train.shape, X_test.shape, y_train.shape, y_test.shape"
   ]
  },
  {
   "cell_type": "markdown",
   "metadata": {},
   "source": [
    "# Preprocess Data "
   ]
  },
  {
   "cell_type": "code",
   "execution_count": 6,
   "metadata": {},
   "outputs": [
    {
     "data": {
      "text/html": [
       "<div>\n",
       "<style scoped>\n",
       "    .dataframe tbody tr th:only-of-type {\n",
       "        vertical-align: middle;\n",
       "    }\n",
       "\n",
       "    .dataframe tbody tr th {\n",
       "        vertical-align: top;\n",
       "    }\n",
       "\n",
       "    .dataframe thead th {\n",
       "        text-align: right;\n",
       "    }\n",
       "</style>\n",
       "<table border=\"1\" class=\"dataframe\">\n",
       "  <thead>\n",
       "    <tr style=\"text-align: right;\">\n",
       "      <th></th>\n",
       "      <th>Pregnancies</th>\n",
       "      <th>Glucose</th>\n",
       "      <th>BloodPressure</th>\n",
       "      <th>SkinThickness</th>\n",
       "      <th>BMI</th>\n",
       "      <th>DiabetesPedigreeFunction</th>\n",
       "      <th>Age</th>\n",
       "    </tr>\n",
       "  </thead>\n",
       "  <tbody>\n",
       "    <tr>\n",
       "      <th>353</th>\n",
       "      <td>1</td>\n",
       "      <td>90</td>\n",
       "      <td>62</td>\n",
       "      <td>12</td>\n",
       "      <td>27.2</td>\n",
       "      <td>0.580</td>\n",
       "      <td>24</td>\n",
       "    </tr>\n",
       "    <tr>\n",
       "      <th>711</th>\n",
       "      <td>5</td>\n",
       "      <td>126</td>\n",
       "      <td>78</td>\n",
       "      <td>27</td>\n",
       "      <td>29.6</td>\n",
       "      <td>0.439</td>\n",
       "      <td>40</td>\n",
       "    </tr>\n",
       "    <tr>\n",
       "      <th>373</th>\n",
       "      <td>2</td>\n",
       "      <td>105</td>\n",
       "      <td>58</td>\n",
       "      <td>40</td>\n",
       "      <td>34.9</td>\n",
       "      <td>0.225</td>\n",
       "      <td>25</td>\n",
       "    </tr>\n",
       "    <tr>\n",
       "      <th>46</th>\n",
       "      <td>1</td>\n",
       "      <td>146</td>\n",
       "      <td>56</td>\n",
       "      <td>0</td>\n",
       "      <td>29.7</td>\n",
       "      <td>0.564</td>\n",
       "      <td>29</td>\n",
       "    </tr>\n",
       "    <tr>\n",
       "      <th>682</th>\n",
       "      <td>0</td>\n",
       "      <td>95</td>\n",
       "      <td>64</td>\n",
       "      <td>39</td>\n",
       "      <td>44.6</td>\n",
       "      <td>0.366</td>\n",
       "      <td>22</td>\n",
       "    </tr>\n",
       "  </tbody>\n",
       "</table>\n",
       "</div>"
      ],
      "text/plain": [
       "     Pregnancies  Glucose  BloodPressure  SkinThickness   BMI  \\\n",
       "353            1       90             62             12  27.2   \n",
       "711            5      126             78             27  29.6   \n",
       "373            2      105             58             40  34.9   \n",
       "46             1      146             56              0  29.7   \n",
       "682            0       95             64             39  44.6   \n",
       "\n",
       "     DiabetesPedigreeFunction  Age  \n",
       "353                     0.580   24  \n",
       "711                     0.439   40  \n",
       "373                     0.225   25  \n",
       "46                      0.564   29  \n",
       "682                     0.366   22  "
      ]
     },
     "execution_count": 6,
     "metadata": {},
     "output_type": "execute_result"
    }
   ],
   "source": [
    "X_train.head()"
   ]
  },
  {
   "cell_type": "code",
   "execution_count": 7,
   "metadata": {},
   "outputs": [],
   "source": [
    "numerical_pipeline = Pipeline([\n",
    "    (\"imputer\", SimpleImputer(strategy=\"median\")),\n",
    "    (\"scaler\", MinMaxScaler())\n",
    "])\n",
    "\n",
    "preprocessor = ColumnTransformer([\n",
    "    ('numeric', numerical_pipeline, X_train.columns)\n",
    "])"
   ]
  },
  {
   "cell_type": "code",
   "execution_count": 8,
   "metadata": {},
   "outputs": [],
   "source": [
    "X_train = preprocessor.fit_transform(X_train)\n",
    "X_test = preprocessor.fit_transform(X_test)"
   ]
  },
  {
   "cell_type": "markdown",
   "metadata": {},
   "source": [
    "# Dataset"
   ]
  },
  {
   "cell_type": "code",
   "execution_count": 9,
   "metadata": {},
   "outputs": [],
   "source": [
    "X_train = torch.FloatTensor(X_train).to(device)\n",
    "X_test = torch.FloatTensor(X_test).to(device)\n",
    "y_train = torch.LongTensor(y_train).to(device)\n",
    "y_test = torch.LongTensor(y_test).to(device)"
   ]
  },
  {
   "cell_type": "code",
   "execution_count": 10,
   "metadata": {},
   "outputs": [],
   "source": [
    "train_set = TensorDataset(X_train, y_train)\n",
    "trainloader = DataLoader(train_set, batch_size=64, shuffle=True)\n",
    "test_set = TensorDataset(X_test, y_test)\n",
    "testloader = DataLoader(test_set, batch_size=64)"
   ]
  },
  {
   "cell_type": "markdown",
   "metadata": {},
   "source": [
    "# Training Preparation"
   ]
  },
  {
   "cell_type": "code",
   "execution_count": 11,
   "metadata": {},
   "outputs": [
    {
     "data": {
      "text/plain": [
       "torch.Size([614, 7])"
      ]
     },
     "execution_count": 11,
     "metadata": {},
     "output_type": "execute_result"
    }
   ],
   "source": [
    "X_train.shape"
   ]
  },
  {
   "cell_type": "code",
   "execution_count": 12,
   "metadata": {},
   "outputs": [],
   "source": [
    "model = nn.Sequential(\n",
    "    nn.Linear(7, 16),\n",
    "    nn.ReLU(),\n",
    "#     nn.Dropout(0.25),\n",
    "    nn.Linear(16, 8),\n",
    "    nn.ReLU(),\n",
    "    nn.Dropout(0.25),\n",
    "    nn.Linear(8, 4),\n",
    "    nn.ReLU(),\n",
    "    nn.Dropout(0.2),\n",
    "    nn.Linear(4, 2),\n",
    "    nn.LogSoftmax(1)\n",
    ").to(device)\n",
    "\n",
    "criterion = nn.NLLLoss()\n",
    "#Semisal tidak menggunakan nn.LogSoftMax(), maka criterionnya menggunakan nn.CrossEntropyLoss\n",
    "optimizer = optim.AdamW(model.parameters(), lr=0.003)"
   ]
  },
  {
   "cell_type": "markdown",
   "metadata": {},
   "source": [
    "# Training Loop "
   ]
  },
  {
   "cell_type": "code",
   "execution_count": 13,
   "metadata": {},
   "outputs": [
    {
     "name": "stdout",
     "output_type": "stream",
     "text": [
      "Epoch: 1000/1000 | train_cost: 0.4150 | test_cost: 0.4150 | train_accuracy: 0.8029 | test_accuracy: 0.7532 "
     ]
    }
   ],
   "source": [
    "epochs = 1000\n",
    "\n",
    "train_cost, test_cost = [], []\n",
    "train_accuracy, test_accuracy = [], []\n",
    "\n",
    "for i in range(epochs):\n",
    "    cost, accuracy = iteratee(\"train\", train_set, trainloader, model, criterion, optimizer, device)\n",
    "    train_cost.append(cost)\n",
    "    train_accuracy.append(accuracy)\n",
    "    \n",
    "    with torch.no_grad():\n",
    "        cost, accuracy = iteratee(\"test\", test_set, testloader, model, criterion, optimizer, device)\n",
    "        test_cost.append(cost)\n",
    "        test_accuracy.append(accuracy)\n",
    "\n",
    "    print(f\"\\rEpoch: {i+1:4}/{epochs:4} | \"\n",
    "          f\"train_cost: {train_cost[-1]:.4f} | test_cost: {train_cost[-1]:.4f} | \"\n",
    "          f\"train_accuracy: {train_accuracy[-1]:.4f} | test_accuracy: {test_accuracy[-1]:.4f}\", end=\" \")"
   ]
  },
  {
   "cell_type": "markdown",
   "metadata": {},
   "source": [
    "# Cost History "
   ]
  },
  {
   "cell_type": "code",
   "execution_count": 14,
   "metadata": {},
   "outputs": [],
   "source": [
    "import matplotlib.pyplot as plt"
   ]
  },
  {
   "cell_type": "code",
   "execution_count": 15,
   "metadata": {},
   "outputs": [
    {
     "data": {
      "image/png": "[encoded data removed]",
      "text/plain": [
       "<Figure size 1080x360 with 2 Axes>"
      ]
     },
     "metadata": {
      "needs_background": "light"
     },
     "output_type": "display_data"
    }
   ],
   "source": [
    "plt.figure(figsize=(15, 5))\n",
    "\n",
    "plt.subplot(121)\n",
    "plt.plot(train_cost, 'r-', label=\"Train\")\n",
    "plt.plot(test_cost, 'b-', label=\"Test\")\n",
    "plt.xlabel(\"epoch\"); plt.ylabel(\"cost\"); plt.legend();\n",
    "plt.subplot(122)\n",
    "plt.plot(train_accuracy, 'r-', label=\"Train\")\n",
    "plt.plot(test_accuracy, 'b-', label=\"Test\")\n",
    "plt.xlabel(\"epoch\"); plt.ylabel(\"accuracy\"); plt.legend();"
   ]
  },
  {
   "cell_type": "markdown",
   "metadata": {},
   "source": [
    "# Predict"
   ]
  },
  {
   "cell_type": "code",
   "execution_count": 16,
   "metadata": {},
   "outputs": [
    {
     "data": {
      "text/plain": [
       "torch.Size([154, 7])"
      ]
     },
     "execution_count": 16,
     "metadata": {},
     "output_type": "execute_result"
    }
   ],
   "source": [
    "X_test.shape"
   ]
  },
  {
   "cell_type": "code",
   "execution_count": 17,
   "metadata": {},
   "outputs": [],
   "source": [
    "with torch.no_grad():\n",
    "    model.eval()\n",
    "    output = model(X_test)"
   ]
  },
  {
   "cell_type": "code",
   "execution_count": 18,
   "metadata": {},
   "outputs": [
    {
     "data": {
      "text/plain": [
       "tensor([[2.4622e-01, 7.5378e-01],\n",
       "        [6.5650e-01, 3.4350e-01],\n",
       "        [6.1907e-01, 3.8093e-01],\n",
       "        [2.9096e-01, 7.0904e-01],\n",
       "        [1.0000e+00, 3.0751e-08],\n",
       "        [4.9309e-01, 5.0691e-01],\n",
       "        [4.0999e-01, 5.9001e-01],\n",
       "        [2.4622e-01, 7.5378e-01],\n",
       "        [9.2394e-01, 7.6064e-02],\n",
       "        [2.4622e-01, 7.5378e-01],\n",
       "        [6.2684e-01, 3.7316e-01],\n",
       "        [2.4622e-01, 7.5378e-01],\n",
       "        [9.4212e-01, 5.7884e-02],\n",
       "        [9.3234e-01, 6.7661e-02],\n",
       "        [6.6804e-01, 3.3196e-01],\n",
       "        [2.7223e-01, 7.2777e-01],\n",
       "        [9.8697e-01, 1.3026e-02],\n",
       "        [9.3675e-01, 6.3250e-02],\n",
       "        [2.4622e-01, 7.5378e-01],\n",
       "        [9.4055e-01, 5.9449e-02],\n",
       "        [8.1662e-01, 1.8338e-01],\n",
       "        [3.8501e-01, 6.1499e-01],\n",
       "        [7.0598e-01, 2.9402e-01],\n",
       "        [2.4622e-01, 7.5378e-01],\n",
       "        [9.7488e-01, 2.5124e-02],\n",
       "        [9.1063e-01, 8.9370e-02],\n",
       "        [2.4622e-01, 7.5378e-01],\n",
       "        [9.9151e-01, 8.4856e-03],\n",
       "        [7.9135e-01, 2.0865e-01],\n",
       "        [9.9778e-01, 2.2156e-03],\n",
       "        [9.7345e-01, 2.6546e-02],\n",
       "        [9.9871e-01, 1.2883e-03],\n",
       "        [2.5371e-01, 7.4629e-01],\n",
       "        [4.0099e-01, 5.9901e-01],\n",
       "        [2.4622e-01, 7.5378e-01],\n",
       "        [8.9381e-01, 1.0619e-01],\n",
       "        [6.2197e-01, 3.7803e-01],\n",
       "        [9.8672e-01, 1.3284e-02],\n",
       "        [2.4622e-01, 7.5378e-01],\n",
       "        [2.4622e-01, 7.5378e-01],\n",
       "        [4.6243e-01, 5.3757e-01],\n",
       "        [8.5678e-01, 1.4322e-01],\n",
       "        [9.2371e-01, 7.6289e-02],\n",
       "        [5.1302e-01, 4.8698e-01],\n",
       "        [6.3570e-01, 3.6430e-01],\n",
       "        [9.9999e-01, 5.7161e-06],\n",
       "        [7.9479e-01, 2.0521e-01],\n",
       "        [9.5422e-01, 4.5779e-02],\n",
       "        [3.6761e-01, 6.3239e-01],\n",
       "        [2.4622e-01, 7.5378e-01],\n",
       "        [2.4622e-01, 7.5378e-01],\n",
       "        [2.4622e-01, 7.5378e-01],\n",
       "        [6.4306e-01, 3.5694e-01],\n",
       "        [9.4762e-01, 5.2383e-02],\n",
       "        [5.2430e-01, 4.7570e-01],\n",
       "        [2.4622e-01, 7.5378e-01],\n",
       "        [2.4622e-01, 7.5378e-01],\n",
       "        [4.5402e-01, 5.4598e-01],\n",
       "        [2.4622e-01, 7.5378e-01],\n",
       "        [8.1516e-01, 1.8484e-01],\n",
       "        [2.4622e-01, 7.5378e-01],\n",
       "        [6.2252e-01, 3.7748e-01],\n",
       "        [1.0000e+00, 7.2359e-07],\n",
       "        [2.4622e-01, 7.5378e-01],\n",
       "        [9.9965e-01, 3.5178e-04],\n",
       "        [4.0267e-01, 5.9733e-01],\n",
       "        [2.4622e-01, 7.5378e-01],\n",
       "        [9.9986e-01, 1.4455e-04],\n",
       "        [6.4283e-01, 3.5717e-01],\n",
       "        [2.4622e-01, 7.5378e-01],\n",
       "        [6.1925e-01, 3.8075e-01],\n",
       "        [8.1298e-01, 1.8702e-01],\n",
       "        [5.7900e-01, 4.2100e-01],\n",
       "        [4.0401e-01, 5.9599e-01],\n",
       "        [9.9919e-01, 8.0579e-04],\n",
       "        [4.6423e-01, 5.3577e-01],\n",
       "        [9.9488e-01, 5.1209e-03],\n",
       "        [4.0504e-01, 5.9496e-01],\n",
       "        [7.6109e-01, 2.3891e-01],\n",
       "        [9.6689e-01, 3.3107e-02],\n",
       "        [9.6477e-01, 3.5233e-02],\n",
       "        [5.4236e-01, 4.5764e-01],\n",
       "        [9.9181e-01, 8.1916e-03],\n",
       "        [5.2991e-01, 4.7009e-01],\n",
       "        [6.7429e-01, 3.2571e-01],\n",
       "        [7.2974e-01, 2.7026e-01],\n",
       "        [3.9936e-01, 6.0064e-01],\n",
       "        [4.5407e-01, 5.4593e-01],\n",
       "        [9.9358e-01, 6.4164e-03],\n",
       "        [5.9052e-01, 4.0948e-01],\n",
       "        [2.4622e-01, 7.5378e-01],\n",
       "        [2.4622e-01, 7.5378e-01],\n",
       "        [5.3970e-01, 4.6030e-01],\n",
       "        [5.8899e-01, 4.1101e-01],\n",
       "        [5.7251e-01, 4.2749e-01],\n",
       "        [2.4622e-01, 7.5378e-01],\n",
       "        [4.8297e-01, 5.1703e-01],\n",
       "        [2.4622e-01, 7.5378e-01],\n",
       "        [2.4622e-01, 7.5378e-01],\n",
       "        [8.5814e-01, 1.4186e-01],\n",
       "        [9.1578e-01, 8.4221e-02],\n",
       "        [6.8791e-01, 3.1209e-01],\n",
       "        [7.3438e-01, 2.6562e-01],\n",
       "        [6.2309e-01, 3.7691e-01],\n",
       "        [2.4622e-01, 7.5378e-01],\n",
       "        [7.2859e-01, 2.7141e-01],\n",
       "        [2.4622e-01, 7.5378e-01],\n",
       "        [9.7382e-01, 2.6183e-02],\n",
       "        [7.0912e-01, 2.9088e-01],\n",
       "        [4.4925e-01, 5.5075e-01],\n",
       "        [3.9373e-01, 6.0627e-01],\n",
       "        [2.4622e-01, 7.5378e-01],\n",
       "        [3.9612e-01, 6.0388e-01],\n",
       "        [3.7637e-01, 6.2363e-01],\n",
       "        [4.1777e-01, 5.8223e-01],\n",
       "        [8.6723e-01, 1.3277e-01],\n",
       "        [3.8345e-01, 6.1655e-01],\n",
       "        [9.4424e-01, 5.5757e-02],\n",
       "        [2.4622e-01, 7.5378e-01],\n",
       "        [2.4622e-01, 7.5378e-01],\n",
       "        [2.4622e-01, 7.5378e-01],\n",
       "        [9.9945e-01, 5.4803e-04],\n",
       "        [1.0000e+00, 2.4003e-10],\n",
       "        [2.4622e-01, 7.5378e-01],\n",
       "        [5.5097e-01, 4.4903e-01],\n",
       "        [2.4622e-01, 7.5378e-01],\n",
       "        [2.4622e-01, 7.5378e-01],\n",
       "        [2.4622e-01, 7.5378e-01],\n",
       "        [7.6187e-01, 2.3813e-01],\n",
       "        [7.8286e-01, 2.1714e-01],\n",
       "        [9.1080e-01, 8.9205e-02],\n",
       "        [5.1071e-01, 4.8929e-01],\n",
       "        [5.0657e-01, 4.9343e-01],\n",
       "        [2.4622e-01, 7.5378e-01],\n",
       "        [2.4622e-01, 7.5378e-01],\n",
       "        [9.8952e-01, 1.0479e-02],\n",
       "        [9.7370e-01, 2.6302e-02],\n",
       "        [9.9999e-01, 9.9968e-06],\n",
       "        [9.6999e-01, 3.0006e-02],\n",
       "        [4.9966e-01, 5.0034e-01],\n",
       "        [9.9978e-01, 2.2383e-04],\n",
       "        [9.7697e-01, 2.3028e-02],\n",
       "        [6.5798e-01, 3.4202e-01],\n",
       "        [1.0000e+00, 2.0238e-06],\n",
       "        [9.7752e-01, 2.2476e-02],\n",
       "        [9.5652e-01, 4.3477e-02],\n",
       "        [2.4622e-01, 7.5378e-01],\n",
       "        [4.2876e-01, 5.7124e-01],\n",
       "        [7.2046e-01, 2.7954e-01],\n",
       "        [9.9835e-01, 1.6490e-03],\n",
       "        [7.5819e-01, 2.4181e-01],\n",
       "        [9.5507e-01, 4.4932e-02],\n",
       "        [2.4622e-01, 7.5378e-01],\n",
       "        [9.9806e-01, 1.9391e-03]])"
      ]
     },
     "execution_count": 18,
     "metadata": {},
     "output_type": "execute_result"
    }
   ],
   "source": [
    "torch.exp(output)"
   ]
  },
  {
   "cell_type": "code",
   "execution_count": 19,
   "metadata": {},
   "outputs": [
    {
     "data": {
      "text/plain": [
       "tensor([[-1.4015e+00, -2.8266e-01],\n",
       "        [-4.2083e-01, -1.0686e+00],\n",
       "        [-4.7953e-01, -9.6514e-01],\n",
       "        [-1.2346e+00, -3.4385e-01],\n",
       "        [ 0.0000e+00, -1.7297e+01],\n",
       "        [-7.0706e-01, -6.7943e-01],\n",
       "        [-8.9163e-01, -5.2761e-01],\n",
       "        [-1.4015e+00, -2.8266e-01],\n",
       "        [-7.9113e-02, -2.5762e+00],\n",
       "        [-1.4015e+00, -2.8266e-01],\n",
       "        [-4.6707e-01, -9.8574e-01],\n",
       "        [-1.4015e+00, -2.8266e-01],\n",
       "        [-5.9626e-02, -2.8493e+00],\n",
       "        [-7.0058e-02, -2.6932e+00],\n",
       "        [-4.0341e-01, -1.1027e+00],\n",
       "        [-1.3011e+00, -3.1777e-01],\n",
       "        [-1.3112e-02, -4.3408e+00],\n",
       "        [-6.5339e-02, -2.7607e+00],\n",
       "        [-1.4015e+00, -2.8266e-01],\n",
       "        [-6.1289e-02, -2.8226e+00],\n",
       "        [-2.0258e-01, -1.6962e+00],\n",
       "        [-9.5448e-01, -4.8616e-01],\n",
       "        [-3.4817e-01, -1.2241e+00],\n",
       "        [-1.4015e+00, -2.8266e-01],\n",
       "        [-2.5445e-02, -3.6840e+00],\n",
       "        [-9.3619e-02, -2.4150e+00],\n",
       "        [-1.4015e+00, -2.8266e-01],\n",
       "        [-8.5219e-03, -4.7694e+00],\n",
       "        [-2.3402e-01, -1.5671e+00],\n",
       "        [-2.2180e-03, -6.1122e+00],\n",
       "        [-2.6904e-02, -3.6289e+00],\n",
       "        [-1.2891e-03, -6.6544e+00],\n",
       "        [-1.3716e+00, -2.9265e-01],\n",
       "        [-9.1381e-01, -5.1248e-01],\n",
       "        [-1.4015e+00, -2.8266e-01],\n",
       "        [-1.1226e-01, -2.2425e+00],\n",
       "        [-4.7486e-01, -9.7278e-01],\n",
       "        [-1.3373e-02, -4.3212e+00],\n",
       "        [-1.4015e+00, -2.8266e-01],\n",
       "        [-1.4015e+00, -2.8266e-01],\n",
       "        [-7.7127e-01, -6.2069e-01],\n",
       "        [-1.5458e-01, -1.9433e+00],\n",
       "        [-7.9356e-02, -2.5732e+00],\n",
       "        [-6.6745e-01, -7.1953e-01],\n",
       "        [-4.5303e-01, -1.0098e+00],\n",
       "        [-5.7220e-06, -1.2072e+01],\n",
       "        [-2.2968e-01, -1.5837e+00],\n",
       "        [-4.6860e-02, -3.0839e+00],\n",
       "        [-1.0007e+00, -4.5826e-01],\n",
       "        [-1.4015e+00, -2.8266e-01],\n",
       "        [-1.4015e+00, -2.8266e-01],\n",
       "        [-1.4015e+00, -2.8266e-01],\n",
       "        [-4.4152e-01, -1.0302e+00],\n",
       "        [-5.3805e-02, -2.9492e+00],\n",
       "        [-6.4569e-01, -7.4297e-01],\n",
       "        [-1.4015e+00, -2.8266e-01],\n",
       "        [-1.4015e+00, -2.8266e-01],\n",
       "        [-7.8960e-01, -6.0518e-01],\n",
       "        [-1.4015e+00, -2.8266e-01],\n",
       "        [-2.0437e-01, -1.6883e+00],\n",
       "        [-1.4015e+00, -2.8266e-01],\n",
       "        [-4.7398e-01, -9.7423e-01],\n",
       "        [-7.1526e-07, -1.4139e+01],\n",
       "        [-1.4015e+00, -2.8266e-01],\n",
       "        [-3.5184e-04, -7.9525e+00],\n",
       "        [-9.0965e-01, -5.1528e-01],\n",
       "        [-1.4015e+00, -2.8266e-01],\n",
       "        [-1.4459e-04, -8.8419e+00],\n",
       "        [-4.4187e-01, -1.0295e+00],\n",
       "        [-1.4015e+00, -2.8266e-01],\n",
       "        [-4.7925e-01, -9.6560e-01],\n",
       "        [-2.0705e-01, -1.6766e+00],\n",
       "        [-5.4645e-01, -8.6513e-01],\n",
       "        [-9.0631e-01, -5.1754e-01],\n",
       "        [-8.0613e-04, -7.1237e+00],\n",
       "        [-7.6738e-01, -6.2404e-01],\n",
       "        [-5.1341e-03, -5.2744e+00],\n",
       "        [-9.0377e-01, -5.1926e-01],\n",
       "        [-2.7301e-01, -1.4317e+00],\n",
       "        [-3.3667e-02, -3.4080e+00],\n",
       "        [-3.5868e-02, -3.3458e+00],\n",
       "        [-6.1182e-01, -7.8168e-01],\n",
       "        [-8.2254e-03, -4.8046e+00],\n",
       "        [-6.3505e-01, -7.5483e-01],\n",
       "        [-3.9409e-01, -1.1218e+00],\n",
       "        [-3.1507e-01, -1.3084e+00],\n",
       "        [-9.1790e-01, -5.0976e-01],\n",
       "        [-7.8949e-01, -6.0527e-01],\n",
       "        [-6.4372e-03, -5.0489e+00],\n",
       "        [-5.2675e-01, -8.9288e-01],\n",
       "        [-1.4015e+00, -2.8266e-01],\n",
       "        [-1.4015e+00, -2.8266e-01],\n",
       "        [-6.1673e-01, -7.7589e-01],\n",
       "        [-5.2935e-01, -8.8914e-01],\n",
       "        [-5.5773e-01, -8.4982e-01],\n",
       "        [-1.4015e+00, -2.8266e-01],\n",
       "        [-7.2781e-01, -6.5965e-01],\n",
       "        [-1.4015e+00, -2.8266e-01],\n",
       "        [-1.4015e+00, -2.8266e-01],\n",
       "        [-1.5299e-01, -1.9529e+00],\n",
       "        [-8.7980e-02, -2.4743e+00],\n",
       "        [-3.7410e-01, -1.1645e+00],\n",
       "        [-3.0873e-01, -1.3257e+00],\n",
       "        [-4.7307e-01, -9.7574e-01],\n",
       "        [-1.4015e+00, -2.8266e-01],\n",
       "        [-3.1665e-01, -1.3041e+00],\n",
       "        [-1.4015e+00, -2.8266e-01],\n",
       "        [-2.6532e-02, -3.6427e+00],\n",
       "        [-3.4373e-01, -1.2349e+00],\n",
       "        [-8.0017e-01, -5.9648e-01],\n",
       "        [-9.3208e-01, -5.0043e-01],\n",
       "        [-1.4015e+00, -2.8266e-01],\n",
       "        [-9.2604e-01, -5.0438e-01],\n",
       "        [-9.7718e-01, -4.7220e-01],\n",
       "        [-8.7281e-01, -5.4090e-01],\n",
       "        [-1.4245e-01, -2.0191e+00],\n",
       "        [-9.5855e-01, -4.8361e-01],\n",
       "        [-5.7372e-02, -2.8867e+00],\n",
       "        [-1.4015e+00, -2.8266e-01],\n",
       "        [-1.4015e+00, -2.8266e-01],\n",
       "        [-1.4015e+00, -2.8266e-01],\n",
       "        [-5.4821e-04, -7.5092e+00],\n",
       "        [ 0.0000e+00, -2.2150e+01],\n",
       "        [-1.4015e+00, -2.8266e-01],\n",
       "        [-5.9607e-01, -8.0067e-01],\n",
       "        [-1.4015e+00, -2.8266e-01],\n",
       "        [-1.4015e+00, -2.8266e-01],\n",
       "        [-1.4015e+00, -2.8266e-01],\n",
       "        [-2.7197e-01, -1.4350e+00],\n",
       "        [-2.4480e-01, -1.5272e+00],\n",
       "        [-9.3437e-02, -2.4168e+00],\n",
       "        [-6.7196e-01, -7.1480e-01],\n",
       "        [-6.8010e-01, -7.0637e-01],\n",
       "        [-1.4015e+00, -2.8266e-01],\n",
       "        [-1.4015e+00, -2.8266e-01],\n",
       "        [-1.0534e-02, -4.5584e+00],\n",
       "        [-2.6654e-02, -3.6381e+00],\n",
       "        [-1.0014e-05, -1.1513e+01],\n",
       "        [-3.0466e-02, -3.5063e+00],\n",
       "        [-6.9382e-01, -6.9248e-01],\n",
       "        [-2.2385e-04, -8.4046e+00],\n",
       "        [-2.3297e-02, -3.7710e+00],\n",
       "        [-4.1858e-01, -1.0729e+00],\n",
       "        [-2.0266e-06, -1.3111e+01],\n",
       "        [-2.2732e-02, -3.7953e+00],\n",
       "        [-4.4450e-02, -3.1355e+00],\n",
       "        [-1.4015e+00, -2.8266e-01],\n",
       "        [-8.4685e-01, -5.5995e-01],\n",
       "        [-3.2786e-01, -1.2746e+00],\n",
       "        [-1.6504e-03, -6.4076e+00],\n",
       "        [-2.7682e-01, -1.4196e+00],\n",
       "        [-4.5973e-02, -3.1026e+00],\n",
       "        [-1.4015e+00, -2.8266e-01],\n",
       "        [-1.9410e-03, -6.2455e+00]])"
      ]
     },
     "execution_count": 19,
     "metadata": {},
     "output_type": "execute_result"
    }
   ],
   "source": [
    "output"
   ]
  },
  {
   "cell_type": "code",
   "execution_count": 20,
   "metadata": {},
   "outputs": [
    {
     "data": {
      "text/plain": [
       "tensor([1, 0, 0, 1, 0, 1, 1, 1, 0, 1, 0, 1, 0, 0, 0, 1, 0, 0, 1, 0, 0, 1, 0, 1,\n",
       "        0, 0, 1, 0, 0, 0, 0, 0, 1, 1, 1, 0, 0, 0, 1, 1, 1, 0, 0, 0, 0, 0, 0, 0,\n",
       "        1, 1, 1, 1, 0, 0, 0, 1, 1, 1, 1, 0, 1, 0, 0, 1, 0, 1, 1, 0, 0, 1, 0, 0,\n",
       "        0, 1, 0, 1, 0, 1, 0, 0, 0, 0, 0, 0, 0, 0, 1, 1, 0, 0, 1, 1, 0, 0, 0, 1,\n",
       "        1, 1, 1, 0, 0, 0, 0, 0, 1, 0, 1, 0, 0, 1, 1, 1, 1, 1, 1, 0, 1, 0, 1, 1,\n",
       "        1, 0, 0, 1, 0, 1, 1, 1, 0, 0, 0, 0, 0, 1, 1, 0, 0, 0, 0, 1, 0, 0, 0, 0,\n",
       "        0, 0, 1, 1, 0, 0, 0, 0, 1, 0])"
      ]
     },
     "execution_count": 20,
     "metadata": {},
     "output_type": "execute_result"
    }
   ],
   "source": [
    "pred = output.argmax(1)\n",
    "pred"
   ]
  },
  {
   "cell_type": "markdown",
   "metadata": {},
   "source": [
    "# Accuracy "
   ]
  },
  {
   "cell_type": "code",
   "execution_count": 21,
   "metadata": {},
   "outputs": [
    {
     "data": {
      "text/plain": [
       "0.7532467246055603"
      ]
     },
     "execution_count": 21,
     "metadata": {},
     "output_type": "execute_result"
    }
   ],
   "source": [
    "accuracy = (y_test == pred).to(torch.float32).mean().item()\n",
    "accuracy"
   ]
  },
  {
   "cell_type": "code",
   "execution_count": null,
   "metadata": {},
   "outputs": [],
   "source": []
  }
 ],
 "metadata": {
  "kernelspec": {
   "display_name": "jcopdl",
   "language": "python",
   "name": "jcopdl"
  },
  "language_info": {
   "codemirror_mode": {
    "name": "ipython",
    "version": 3
   },
   "file_extension": ".py",
   "mimetype": "text/x-python",
   "name": "python",
   "nbconvert_exporter": "python",
   "pygments_lexer": "ipython3",
   "version": "3.7.6"
  }
 },
 "nbformat": 4,
 "nbformat_minor": 5
}
