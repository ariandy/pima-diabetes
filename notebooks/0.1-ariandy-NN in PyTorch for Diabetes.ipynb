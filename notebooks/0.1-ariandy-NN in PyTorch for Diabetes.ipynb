{
 "cells": [
  {
   "cell_type": "code",
   "execution_count": 1,
   "metadata": {},
   "outputs": [],
   "source": [
    "import sys\n",
    "sys.path.append('..')\n",
    "from src.func import iteratee\n",
    "\n",
    "import torch\n",
    "from torch import nn, optim\n",
    "from torch.utils.data import DataLoader, TensorDataset\n",
    "\n",
    "import numpy as np\n",
    "import pandas as pd\n",
    "from sklearn.model_selection import train_test_split\n",
    "from sklearn.preprocessing import MinMaxScaler\n",
    "from sklearn.pipeline import Pipeline\n",
    "from sklearn.impute import SimpleImputer\n",
    "from sklearn.compose import ColumnTransformer"
   ]
  },
  {
   "cell_type": "code",
   "execution_count": 2,
   "metadata": {},
   "outputs": [
    {
     "data": {
      "text/plain": [
       "device(type='cpu')"
      ]
     },
     "execution_count": 2,
     "metadata": {},
     "output_type": "execute_result"
    }
   ],
   "source": [
    "device = torch.device(\"cuda\" if torch.cuda.is_available() else \"cpu\")\n",
    "device"
   ]
  },
  {
   "cell_type": "markdown",
   "metadata": {},
   "source": [
    "# Import Data "
   ]
  },
  {
   "cell_type": "code",
   "execution_count": 3,
   "metadata": {},
   "outputs": [
    {
     "data": {
      "text/html": [
       "<div>\n",
       "<style scoped>\n",
       "    .dataframe tbody tr th:only-of-type {\n",
       "        vertical-align: middle;\n",
       "    }\n",
       "\n",
       "    .dataframe tbody tr th {\n",
       "        vertical-align: top;\n",
       "    }\n",
       "\n",
       "    .dataframe thead th {\n",
       "        text-align: right;\n",
       "    }\n",
       "</style>\n",
       "<table border=\"1\" class=\"dataframe\">\n",
       "  <thead>\n",
       "    <tr style=\"text-align: right;\">\n",
       "      <th></th>\n",
       "      <th>Pregnancies</th>\n",
       "      <th>Glucose</th>\n",
       "      <th>BloodPressure</th>\n",
       "      <th>SkinThickness</th>\n",
       "      <th>Insulin</th>\n",
       "      <th>BMI</th>\n",
       "      <th>DiabetesPedigreeFunction</th>\n",
       "      <th>Age</th>\n",
       "      <th>Outcome</th>\n",
       "    </tr>\n",
       "  </thead>\n",
       "  <tbody>\n",
       "    <tr>\n",
       "      <th>0</th>\n",
       "      <td>6</td>\n",
       "      <td>148</td>\n",
       "      <td>72</td>\n",
       "      <td>35</td>\n",
       "      <td>0</td>\n",
       "      <td>33.6</td>\n",
       "      <td>0.627</td>\n",
       "      <td>50</td>\n",
       "      <td>1</td>\n",
       "    </tr>\n",
       "    <tr>\n",
       "      <th>1</th>\n",
       "      <td>1</td>\n",
       "      <td>85</td>\n",
       "      <td>66</td>\n",
       "      <td>29</td>\n",
       "      <td>0</td>\n",
       "      <td>26.6</td>\n",
       "      <td>0.351</td>\n",
       "      <td>31</td>\n",
       "      <td>0</td>\n",
       "    </tr>\n",
       "    <tr>\n",
       "      <th>2</th>\n",
       "      <td>8</td>\n",
       "      <td>183</td>\n",
       "      <td>64</td>\n",
       "      <td>0</td>\n",
       "      <td>0</td>\n",
       "      <td>23.3</td>\n",
       "      <td>0.672</td>\n",
       "      <td>32</td>\n",
       "      <td>1</td>\n",
       "    </tr>\n",
       "    <tr>\n",
       "      <th>3</th>\n",
       "      <td>1</td>\n",
       "      <td>89</td>\n",
       "      <td>66</td>\n",
       "      <td>23</td>\n",
       "      <td>94</td>\n",
       "      <td>28.1</td>\n",
       "      <td>0.167</td>\n",
       "      <td>21</td>\n",
       "      <td>0</td>\n",
       "    </tr>\n",
       "    <tr>\n",
       "      <th>4</th>\n",
       "      <td>0</td>\n",
       "      <td>137</td>\n",
       "      <td>40</td>\n",
       "      <td>35</td>\n",
       "      <td>168</td>\n",
       "      <td>43.1</td>\n",
       "      <td>2.288</td>\n",
       "      <td>33</td>\n",
       "      <td>1</td>\n",
       "    </tr>\n",
       "  </tbody>\n",
       "</table>\n",
       "</div>"
      ],
      "text/plain": [
       "   Pregnancies  Glucose  BloodPressure  SkinThickness  Insulin   BMI  \\\n",
       "0            6      148             72             35        0  33.6   \n",
       "1            1       85             66             29        0  26.6   \n",
       "2            8      183             64              0        0  23.3   \n",
       "3            1       89             66             23       94  28.1   \n",
       "4            0      137             40             35      168  43.1   \n",
       "\n",
       "   DiabetesPedigreeFunction  Age  Outcome  \n",
       "0                     0.627   50        1  \n",
       "1                     0.351   31        0  \n",
       "2                     0.672   32        1  \n",
       "3                     0.167   21        0  \n",
       "4                     2.288   33        1  "
      ]
     },
     "execution_count": 3,
     "metadata": {},
     "output_type": "execute_result"
    }
   ],
   "source": [
    "df = pd.read_csv(\"../data/raw/diabetes.csv\")\n",
    "df.head()"
   ]
  },
  {
   "cell_type": "code",
   "execution_count": 4,
   "metadata": {},
   "outputs": [],
   "source": [
    "df.drop(columns=\"Insulin\", inplace=True)"
   ]
  },
  {
   "cell_type": "markdown",
   "metadata": {},
   "source": [
    "# Dataset Splitting "
   ]
  },
  {
   "cell_type": "code",
   "execution_count": 5,
   "metadata": {},
   "outputs": [
    {
     "data": {
      "text/plain": [
       "((614, 7), (154, 7), (614,), (154,))"
      ]
     },
     "execution_count": 5,
     "metadata": {},
     "output_type": "execute_result"
    }
   ],
   "source": [
    "X = df.drop(columns=\"Outcome\")\n",
    "y = df['Outcome'].values # .values digunakan karena Series/DataFrame pandas tidak bisa dikonversi ke Tensor\n",
    "\n",
    "X_train, X_test, y_train, y_test = train_test_split(X, y, test_size=0.2, stratify=y, random_state=42)\n",
    "X_train.shape, X_test.shape, y_train.shape, y_test.shape"
   ]
  },
  {
   "cell_type": "markdown",
   "metadata": {},
   "source": [
    "# Preprocess Data "
   ]
  },
  {
   "cell_type": "code",
   "execution_count": 6,
   "metadata": {},
   "outputs": [
    {
     "data": {
      "text/html": [
       "<div>\n",
       "<style scoped>\n",
       "    .dataframe tbody tr th:only-of-type {\n",
       "        vertical-align: middle;\n",
       "    }\n",
       "\n",
       "    .dataframe tbody tr th {\n",
       "        vertical-align: top;\n",
       "    }\n",
       "\n",
       "    .dataframe thead th {\n",
       "        text-align: right;\n",
       "    }\n",
       "</style>\n",
       "<table border=\"1\" class=\"dataframe\">\n",
       "  <thead>\n",
       "    <tr style=\"text-align: right;\">\n",
       "      <th></th>\n",
       "      <th>Pregnancies</th>\n",
       "      <th>Glucose</th>\n",
       "      <th>BloodPressure</th>\n",
       "      <th>SkinThickness</th>\n",
       "      <th>BMI</th>\n",
       "      <th>DiabetesPedigreeFunction</th>\n",
       "      <th>Age</th>\n",
       "    </tr>\n",
       "  </thead>\n",
       "  <tbody>\n",
       "    <tr>\n",
       "      <th>353</th>\n",
       "      <td>1</td>\n",
       "      <td>90</td>\n",
       "      <td>62</td>\n",
       "      <td>12</td>\n",
       "      <td>27.2</td>\n",
       "      <td>0.580</td>\n",
       "      <td>24</td>\n",
       "    </tr>\n",
       "    <tr>\n",
       "      <th>711</th>\n",
       "      <td>5</td>\n",
       "      <td>126</td>\n",
       "      <td>78</td>\n",
       "      <td>27</td>\n",
       "      <td>29.6</td>\n",
       "      <td>0.439</td>\n",
       "      <td>40</td>\n",
       "    </tr>\n",
       "    <tr>\n",
       "      <th>373</th>\n",
       "      <td>2</td>\n",
       "      <td>105</td>\n",
       "      <td>58</td>\n",
       "      <td>40</td>\n",
       "      <td>34.9</td>\n",
       "      <td>0.225</td>\n",
       "      <td>25</td>\n",
       "    </tr>\n",
       "    <tr>\n",
       "      <th>46</th>\n",
       "      <td>1</td>\n",
       "      <td>146</td>\n",
       "      <td>56</td>\n",
       "      <td>0</td>\n",
       "      <td>29.7</td>\n",
       "      <td>0.564</td>\n",
       "      <td>29</td>\n",
       "    </tr>\n",
       "    <tr>\n",
       "      <th>682</th>\n",
       "      <td>0</td>\n",
       "      <td>95</td>\n",
       "      <td>64</td>\n",
       "      <td>39</td>\n",
       "      <td>44.6</td>\n",
       "      <td>0.366</td>\n",
       "      <td>22</td>\n",
       "    </tr>\n",
       "  </tbody>\n",
       "</table>\n",
       "</div>"
      ],
      "text/plain": [
       "     Pregnancies  Glucose  BloodPressure  SkinThickness   BMI  \\\n",
       "353            1       90             62             12  27.2   \n",
       "711            5      126             78             27  29.6   \n",
       "373            2      105             58             40  34.9   \n",
       "46             1      146             56              0  29.7   \n",
       "682            0       95             64             39  44.6   \n",
       "\n",
       "     DiabetesPedigreeFunction  Age  \n",
       "353                     0.580   24  \n",
       "711                     0.439   40  \n",
       "373                     0.225   25  \n",
       "46                      0.564   29  \n",
       "682                     0.366   22  "
      ]
     },
     "execution_count": 6,
     "metadata": {},
     "output_type": "execute_result"
    }
   ],
   "source": [
    "X_train.head()"
   ]
  },
  {
   "cell_type": "code",
   "execution_count": 7,
   "metadata": {},
   "outputs": [],
   "source": [
    "numerical_pipeline = Pipeline([\n",
    "    (\"imputer\", SimpleImputer(strategy=\"median\")),\n",
    "    (\"scaler\", MinMaxScaler())\n",
    "])\n",
    "\n",
    "preprocessor = ColumnTransformer([\n",
    "    ('numeric', numerical_pipeline, X_train.columns)\n",
    "])"
   ]
  },
  {
   "cell_type": "code",
   "execution_count": 8,
   "metadata": {},
   "outputs": [],
   "source": [
    "X_train = preprocessor.fit_transform(X_train)\n",
    "X_test = preprocessor.fit_transform(X_test)"
   ]
  },
  {
   "cell_type": "markdown",
   "metadata": {},
   "source": [
    "# Dataset"
   ]
  },
  {
   "cell_type": "code",
   "execution_count": 9,
   "metadata": {},
   "outputs": [],
   "source": [
    "X_train = torch.FloatTensor(X_train).to(device)\n",
    "X_test = torch.FloatTensor(X_test).to(device)\n",
    "y_train = torch.LongTensor(y_train).to(device)\n",
    "y_test = torch.LongTensor(y_test).to(device)"
   ]
  },
  {
   "cell_type": "code",
   "execution_count": 10,
   "metadata": {},
   "outputs": [],
   "source": [
    "train_set = TensorDataset(X_train, y_train)\n",
    "trainloader = DataLoader(train_set, batch_size=64, shuffle=True)\n",
    "test_set = TensorDataset(X_test, y_test)\n",
    "testloader = DataLoader(test_set, batch_size=64)"
   ]
  },
  {
   "cell_type": "markdown",
   "metadata": {},
   "source": [
    "# Training Preparation"
   ]
  },
  {
   "cell_type": "code",
   "execution_count": 11,
   "metadata": {},
   "outputs": [
    {
     "data": {
      "text/plain": [
       "torch.Size([614, 7])"
      ]
     },
     "execution_count": 11,
     "metadata": {},
     "output_type": "execute_result"
    }
   ],
   "source": [
    "X_train.shape"
   ]
  },
  {
   "cell_type": "code",
   "execution_count": 12,
   "metadata": {},
   "outputs": [],
   "source": [
    "model = nn.Sequential(\n",
    "    nn.Linear(7, 16),\n",
    "    nn.ReLU(),\n",
    "#     nn.Dropout(0.25),\n",
    "    nn.Linear(16, 8),\n",
    "    nn.ReLU(),\n",
    "    nn.Dropout(0.25),\n",
    "    nn.Linear(8, 4),\n",
    "    nn.ReLU(),\n",
    "    nn.Dropout(0.2),\n",
    "    nn.Linear(4, 2),\n",
    "    nn.LogSoftmax(1)\n",
    ").to(device)\n",
    "\n",
    "criterion = nn.NLLLoss()\n",
    "#Semisal tidak menggunakan nn.LogSoftMax(), maka criterionnya menggunakan nn.CrossEntropyLoss\n",
    "optimizer = optim.AdamW(model.parameters(), lr=0.003)"
   ]
  },
  {
   "cell_type": "markdown",
   "metadata": {},
   "source": [
    "# Training Loop "
   ]
  },
  {
   "cell_type": "code",
   "execution_count": 13,
   "metadata": {},
   "outputs": [
    {
     "name": "stdout",
     "output_type": "stream",
     "text": [
      "Epoch: 1000/1000 | train_cost: 0.4255 | test_cost: 0.4255 | train_accuracy: 0.7541 | test_accuracy: 0.7532 "
     ]
    }
   ],
   "source": [
    "epochs = 1000\n",
    "\n",
    "train_cost, test_cost = [], []\n",
    "train_accuracy, test_accuracy = [], []\n",
    "\n",
    "for i in range(epochs):\n",
    "    cost, accuracy = iteratee(\"train\", train_set, trainloader, model, criterion, optimizer, device)\n",
    "    train_cost.append(cost)\n",
    "    train_accuracy.append(accuracy)\n",
    "    \n",
    "    with torch.no_grad():\n",
    "        cost, accuracy = iteratee(\"test\", test_set, testloader, model, criterion, optimizer, device)\n",
    "        test_cost.append(cost)\n",
    "        test_accuracy.append(accuracy)\n",
    "\n",
    "    print(f\"\\rEpoch: {i+1:4}/{epochs:4} | \"\n",
    "          f\"train_cost: {train_cost[-1]:.4f} | test_cost: {train_cost[-1]:.4f} | \"\n",
    "          f\"train_accuracy: {train_accuracy[-1]:.4f} | test_accuracy: {test_accuracy[-1]:.4f}\", end=\" \")"
   ]
  },
  {
   "cell_type": "markdown",
   "metadata": {},
   "source": [
    "# Cost History "
   ]
  },
  {
   "cell_type": "code",
   "execution_count": 14,
   "metadata": {},
   "outputs": [],
   "source": [
    "import matplotlib.pyplot as plt"
   ]
  },
  {
   "cell_type": "code",
   "execution_count": 15,
   "metadata": {},
   "outputs": [
    {
     "data": {
      "image/png": "[encoded data removed]",
      "text/plain": [
       "<Figure size 1080x360 with 2 Axes>"
      ]
     },
     "metadata": {
      "needs_background": "light"
     },
     "output_type": "display_data"
    }
   ],
   "source": [
    "plt.figure(figsize=(15, 5))\n",
    "\n",
    "plt.subplot(121)\n",
    "plt.plot(train_cost, 'r-', label=\"Train\")\n",
    "plt.plot(test_cost, 'b-', label=\"Test\")\n",
    "plt.xlabel(\"epoch\"); plt.ylabel(\"cost\"); plt.legend();\n",
    "plt.subplot(122)\n",
    "plt.plot(train_accuracy, 'r-', label=\"Train\")\n",
    "plt.plot(test_accuracy, 'b-', label=\"Test\")\n",
    "plt.xlabel(\"epoch\"); plt.ylabel(\"accuracy\"); plt.legend();"
   ]
  },
  {
   "cell_type": "markdown",
   "metadata": {},
   "source": [
    "# Predict"
   ]
  },
  {
   "cell_type": "code",
   "execution_count": 16,
   "metadata": {},
   "outputs": [
    {
     "data": {
      "text/plain": [
       "torch.Size([154, 7])"
      ]
     },
     "execution_count": 16,
     "metadata": {},
     "output_type": "execute_result"
    }
   ],
   "source": [
    "X_test.shape"
   ]
  },
  {
   "cell_type": "code",
   "execution_count": 17,
   "metadata": {},
   "outputs": [],
   "source": [
    "with torch.no_grad():\n",
    "    model.eval()\n",
    "    output = model(X_test)"
   ]
  },
  {
   "cell_type": "code",
   "execution_count": 18,
   "metadata": {},
   "outputs": [
    {
     "data": {
      "text/plain": [
       "tensor([[2.3838e-01, 7.6162e-01],\n",
       "        [6.1934e-01, 3.8066e-01],\n",
       "        [6.6827e-01, 3.3173e-01],\n",
       "        [6.6632e-01, 3.3368e-01],\n",
       "        [1.0000e+00, 1.5214e-08],\n",
       "        [5.3627e-01, 4.6373e-01],\n",
       "        [5.3627e-01, 4.6373e-01],\n",
       "        [6.5192e-02, 9.3481e-01],\n",
       "        [9.5465e-01, 4.5346e-02],\n",
       "        [1.6122e-01, 8.3878e-01],\n",
       "        [7.2490e-01, 2.7510e-01],\n",
       "        [2.4297e-02, 9.7570e-01],\n",
       "        [9.6565e-01, 3.4348e-02],\n",
       "        [9.1885e-01, 8.1145e-02],\n",
       "        [6.7117e-01, 3.2883e-01],\n",
       "        [5.3627e-01, 4.6373e-01],\n",
       "        [5.9273e-01, 4.0727e-01],\n",
       "        [9.3167e-01, 6.8325e-02],\n",
       "        [1.7227e-01, 8.2773e-01],\n",
       "        [7.4912e-01, 2.5088e-01],\n",
       "        [5.3627e-01, 4.6373e-01],\n",
       "        [5.3009e-01, 4.6991e-01],\n",
       "        [7.4810e-01, 2.5190e-01],\n",
       "        [5.2804e-02, 9.4720e-01],\n",
       "        [2.4919e-01, 7.5081e-01],\n",
       "        [9.5209e-01, 4.7915e-02],\n",
       "        [2.8258e-01, 7.1742e-01],\n",
       "        [9.8208e-01, 1.7919e-02],\n",
       "        [8.7299e-01, 1.2701e-01],\n",
       "        [9.9700e-01, 3.0014e-03],\n",
       "        [9.6043e-01, 3.9571e-02],\n",
       "        [9.9682e-01, 3.1831e-03],\n",
       "        [5.0365e-01, 4.9635e-01],\n",
       "        [5.3627e-01, 4.6373e-01],\n",
       "        [2.1644e-01, 7.8356e-01],\n",
       "        [9.8844e-01, 1.1559e-02],\n",
       "        [6.6836e-01, 3.3164e-01],\n",
       "        [9.8325e-01, 1.6753e-02],\n",
       "        [4.5864e-01, 5.4136e-01],\n",
       "        [1.8654e-01, 8.1346e-01],\n",
       "        [5.0407e-01, 4.9593e-01],\n",
       "        [8.6627e-01, 1.3373e-01],\n",
       "        [8.9224e-01, 1.0776e-01],\n",
       "        [5.5691e-01, 4.4309e-01],\n",
       "        [7.6673e-01, 2.3327e-01],\n",
       "        [6.9761e-01, 3.0239e-01],\n",
       "        [6.7167e-01, 3.2833e-01],\n",
       "        [9.3521e-01, 6.4785e-02],\n",
       "        [6.2541e-01, 3.7459e-01],\n",
       "        [1.1655e-01, 8.8345e-01],\n",
       "        [2.3156e-01, 7.6844e-01],\n",
       "        [1.9468e-01, 8.0532e-01],\n",
       "        [6.2909e-01, 3.7091e-01],\n",
       "        [9.3937e-01, 6.0626e-02],\n",
       "        [5.3627e-01, 4.6373e-01],\n",
       "        [2.2743e-01, 7.7257e-01],\n",
       "        [1.6385e-01, 8.3615e-01],\n",
       "        [5.3627e-01, 4.6373e-01],\n",
       "        [1.3700e-01, 8.6300e-01],\n",
       "        [8.7249e-01, 1.2751e-01],\n",
       "        [1.9351e-01, 8.0649e-01],\n",
       "        [6.9311e-01, 3.0689e-01],\n",
       "        [1.0000e+00, 6.5472e-07],\n",
       "        [6.4442e-02, 9.3556e-01],\n",
       "        [9.9897e-01, 1.0345e-03],\n",
       "        [2.8534e-01, 7.1466e-01],\n",
       "        [4.5908e-01, 5.4092e-01],\n",
       "        [9.9999e-01, 1.3774e-05],\n",
       "        [5.3627e-01, 4.6373e-01],\n",
       "        [1.6920e-01, 8.3080e-01],\n",
       "        [9.5868e-01, 4.1320e-02],\n",
       "        [9.0238e-01, 9.7624e-02],\n",
       "        [5.0796e-01, 4.9204e-01],\n",
       "        [2.3065e-01, 7.6935e-01],\n",
       "        [9.9999e-01, 1.1325e-05],\n",
       "        [3.9551e-01, 6.0449e-01],\n",
       "        [9.9933e-01, 6.6974e-04],\n",
       "        [5.3627e-01, 4.6373e-01],\n",
       "        [8.2677e-01, 1.7323e-01],\n",
       "        [9.2731e-01, 7.2692e-02],\n",
       "        [9.6068e-01, 3.9316e-02],\n",
       "        [5.3627e-01, 4.6373e-01],\n",
       "        [9.8850e-01, 1.1496e-02],\n",
       "        [5.0535e-01, 4.9465e-01],\n",
       "        [5.3627e-01, 4.6373e-01],\n",
       "        [6.0408e-01, 3.9592e-01],\n",
       "        [4.0661e-01, 5.9339e-01],\n",
       "        [6.8032e-01, 3.1968e-01],\n",
       "        [9.8869e-01, 1.1312e-02],\n",
       "        [5.3627e-01, 4.6373e-01],\n",
       "        [1.3110e-01, 8.6890e-01],\n",
       "        [5.0729e-02, 9.4927e-01],\n",
       "        [6.9535e-01, 3.0465e-01],\n",
       "        [7.1838e-01, 2.8162e-01],\n",
       "        [6.4575e-01, 3.5425e-01],\n",
       "        [1.4685e-01, 8.5315e-01],\n",
       "        [5.3627e-01, 4.6373e-01],\n",
       "        [2.5781e-01, 7.4219e-01],\n",
       "        [2.4158e-01, 7.5842e-01],\n",
       "        [9.2200e-01, 7.8002e-02],\n",
       "        [9.3228e-01, 6.7718e-02],\n",
       "        [6.9528e-01, 3.0472e-01],\n",
       "        [8.4590e-01, 1.5410e-01],\n",
       "        [6.9972e-01, 3.0028e-01],\n",
       "        [6.4275e-02, 9.3572e-01],\n",
       "        [8.7853e-01, 1.2147e-01],\n",
       "        [6.7288e-02, 9.3271e-01],\n",
       "        [9.4338e-01, 5.6619e-02],\n",
       "        [9.6707e-01, 3.2934e-02],\n",
       "        [6.5476e-01, 3.4524e-01],\n",
       "        [6.9288e-01, 3.0712e-01],\n",
       "        [2.9407e-02, 9.7059e-01],\n",
       "        [2.4821e-01, 7.5179e-01],\n",
       "        [5.6810e-01, 4.3190e-01],\n",
       "        [5.3627e-01, 4.6373e-01],\n",
       "        [8.7750e-01, 1.2250e-01],\n",
       "        [9.8712e-01, 1.2877e-02],\n",
       "        [5.4063e-01, 4.5937e-01],\n",
       "        [4.3984e-02, 9.5602e-01],\n",
       "        [9.2110e-01, 7.8897e-02],\n",
       "        [1.9940e-01, 8.0060e-01],\n",
       "        [9.7625e-01, 2.3753e-02],\n",
       "        [9.9999e-01, 9.7971e-06],\n",
       "        [8.9379e-02, 9.1062e-01],\n",
       "        [5.3627e-01, 4.6373e-01],\n",
       "        [2.7415e-01, 7.2585e-01],\n",
       "        [3.7929e-01, 6.2071e-01],\n",
       "        [5.3627e-01, 4.6373e-01],\n",
       "        [7.7190e-01, 2.2810e-01],\n",
       "        [7.3558e-01, 2.6442e-01],\n",
       "        [6.9335e-01, 3.0665e-01],\n",
       "        [5.3627e-01, 4.6373e-01],\n",
       "        [7.7693e-01, 2.2307e-01],\n",
       "        [1.6644e-01, 8.3356e-01],\n",
       "        [7.6919e-02, 9.2308e-01],\n",
       "        [5.4768e-01, 4.5232e-01],\n",
       "        [9.4198e-01, 5.8016e-02],\n",
       "        [9.9538e-01, 4.6218e-03],\n",
       "        [9.2908e-01, 7.0919e-02],\n",
       "        [6.5505e-01, 3.4495e-01],\n",
       "        [1.0000e+00, 3.3605e-06],\n",
       "        [7.4832e-01, 2.5168e-01],\n",
       "        [6.9700e-01, 3.0300e-01],\n",
       "        [9.9994e-01, 6.4737e-05],\n",
       "        [9.9996e-01, 3.7393e-05],\n",
       "        [8.4956e-01, 1.5044e-01],\n",
       "        [2.0965e-01, 7.9035e-01],\n",
       "        [8.6917e-01, 1.3083e-01],\n",
       "        [2.6526e-01, 7.3474e-01],\n",
       "        [9.8934e-01, 1.0657e-02],\n",
       "        [8.0673e-01, 1.9327e-01],\n",
       "        [7.3849e-01, 2.6151e-01],\n",
       "        [1.8897e-01, 8.1103e-01],\n",
       "        [9.6903e-01, 3.0970e-02]])"
      ]
     },
     "execution_count": 18,
     "metadata": {},
     "output_type": "execute_result"
    }
   ],
   "source": [
    "torch.exp(output)"
   ]
  },
  {
   "cell_type": "code",
   "execution_count": 19,
   "metadata": {},
   "outputs": [
    {
     "data": {
      "text/plain": [
       "tensor([[-1.4339e+00, -2.7230e-01],\n",
       "        [-4.7910e-01, -9.6586e-01],\n",
       "        [-4.0306e-01, -1.1034e+00],\n",
       "        [-4.0598e-01, -1.0976e+00],\n",
       "        [ 0.0000e+00, -1.8001e+01],\n",
       "        [-6.2311e-01, -7.6846e-01],\n",
       "        [-6.2311e-01, -7.6846e-01],\n",
       "        [-2.7304e+00, -6.7415e-02],\n",
       "        [-4.6406e-02, -3.0934e+00],\n",
       "        [-1.8250e+00, -1.7581e-01],\n",
       "        [-3.2172e-01, -1.2906e+00],\n",
       "        [-3.7174e+00, -2.4597e-02],\n",
       "        [-3.4952e-02, -3.3712e+00],\n",
       "        [-8.4627e-02, -2.5115e+00],\n",
       "        [-3.9874e-01, -1.1122e+00],\n",
       "        [-6.2311e-01, -7.6846e-01],\n",
       "        [-5.2302e-01, -8.9827e-01],\n",
       "        [-7.0771e-02, -2.6835e+00],\n",
       "        [-1.7587e+00, -1.8907e-01],\n",
       "        [-2.8885e-01, -1.3828e+00],\n",
       "        [-6.2311e-01, -7.6846e-01],\n",
       "        [-6.3470e-01, -7.5522e-01],\n",
       "        [-2.9022e-01, -1.3787e+00],\n",
       "        [-2.9412e+00, -5.4249e-02],\n",
       "        [-1.3895e+00, -2.8661e-01],\n",
       "        [-4.9101e-02, -3.0383e+00],\n",
       "        [-1.2638e+00, -3.3209e-01],\n",
       "        [-1.8081e-02, -4.0219e+00],\n",
       "        [-1.3584e-01, -2.0635e+00],\n",
       "        [-3.0059e-03, -5.8087e+00],\n",
       "        [-4.0375e-02, -3.2297e+00],\n",
       "        [-3.1882e-03, -5.7499e+00],\n",
       "        [-6.8587e-01, -7.0048e-01],\n",
       "        [-6.2311e-01, -7.6846e-01],\n",
       "        [-1.5305e+00, -2.4390e-01],\n",
       "        [-1.1626e-02, -4.4603e+00],\n",
       "        [-4.0292e-01, -1.1037e+00],\n",
       "        [-1.6895e-02, -4.0892e+00],\n",
       "        [-7.7950e-01, -6.1366e-01],\n",
       "        [-1.6791e+00, -2.0646e-01],\n",
       "        [-6.8504e-01, -7.0132e-01],\n",
       "        [-1.4355e-01, -2.0120e+00],\n",
       "        [-1.1403e-01, -2.2278e+00],\n",
       "        [-5.8535e-01, -8.1398e-01],\n",
       "        [-2.6562e-01, -1.4556e+00],\n",
       "        [-3.6009e-01, -1.1960e+00],\n",
       "        [-3.9798e-01, -1.1137e+00],\n",
       "        [-6.6979e-02, -2.7367e+00],\n",
       "        [-4.6935e-01, -9.8192e-01],\n",
       "        [-2.1495e+00, -1.2392e-01],\n",
       "        [-1.4629e+00, -2.6339e-01],\n",
       "        [-1.6364e+00, -2.1652e-01],\n",
       "        [-4.6349e-01, -9.9179e-01],\n",
       "        [-6.2542e-02, -2.8030e+00],\n",
       "        [-6.2311e-01, -7.6846e-01],\n",
       "        [-1.4809e+00, -2.5803e-01],\n",
       "        [-1.8088e+00, -1.7895e-01],\n",
       "        [-6.2311e-01, -7.6846e-01],\n",
       "        [-1.9878e+00, -1.4734e-01],\n",
       "        [-1.3640e-01, -2.0596e+00],\n",
       "        [-1.6424e+00, -2.1506e-01],\n",
       "        [-3.6656e-01, -1.1813e+00],\n",
       "        [-5.9605e-07, -1.4239e+01],\n",
       "        [-2.7420e+00, -6.6612e-02],\n",
       "        [-1.0350e-03, -6.8739e+00],\n",
       "        [-1.2541e+00, -3.3595e-01],\n",
       "        [-7.7853e-01, -6.1449e-01],\n",
       "        [-1.3828e-05, -1.1193e+01],\n",
       "        [-6.2311e-01, -7.6846e-01],\n",
       "        [-1.7767e+00, -1.8536e-01],\n",
       "        [-4.2198e-02, -3.1864e+00],\n",
       "        [-1.0272e-01, -2.3266e+00],\n",
       "        [-6.7736e-01, -7.0919e-01],\n",
       "        [-1.4668e+00, -2.6222e-01],\n",
       "        [-1.1325e-05, -1.1388e+01],\n",
       "        [-9.2758e-01, -5.0337e-01],\n",
       "        [-6.6997e-04, -7.3086e+00],\n",
       "        [-6.2311e-01, -7.6846e-01],\n",
       "        [-1.9023e-01, -1.7531e+00],\n",
       "        [-7.5469e-02, -2.6215e+00],\n",
       "        [-4.0110e-02, -3.2361e+00],\n",
       "        [-6.2311e-01, -7.6846e-01],\n",
       "        [-1.1562e-02, -4.4658e+00],\n",
       "        [-6.8251e-01, -7.0390e-01],\n",
       "        [-6.2311e-01, -7.6846e-01],\n",
       "        [-5.0404e-01, -9.2655e-01],\n",
       "        [-8.9991e-01, -5.2190e-01],\n",
       "        [-3.8520e-01, -1.1404e+00],\n",
       "        [-1.1376e-02, -4.4819e+00],\n",
       "        [-6.2311e-01, -7.6846e-01],\n",
       "        [-2.0318e+00, -1.4053e-01],\n",
       "        [-2.9813e+00, -5.2061e-02],\n",
       "        [-3.6334e-01, -1.1886e+00],\n",
       "        [-3.3076e-01, -1.2672e+00],\n",
       "        [-4.3734e-01, -1.0378e+00],\n",
       "        [-1.9183e+00, -1.5883e-01],\n",
       "        [-6.2311e-01, -7.6846e-01],\n",
       "        [-1.3555e+00, -2.9815e-01],\n",
       "        [-1.4205e+00, -2.7652e-01],\n",
       "        [-8.1212e-02, -2.5510e+00],\n",
       "        [-7.0120e-02, -2.6924e+00],\n",
       "        [-3.6344e-01, -1.1884e+00],\n",
       "        [-1.6736e-01, -1.8701e+00],\n",
       "        [-3.5707e-01, -1.2031e+00],\n",
       "        [-2.7446e+00, -6.6434e-02],\n",
       "        [-1.2950e-01, -2.1081e+00],\n",
       "        [-2.6988e+00, -6.9659e-02],\n",
       "        [-5.8285e-02, -2.8714e+00],\n",
       "        [-3.3488e-02, -3.4133e+00],\n",
       "        [-4.2348e-01, -1.0635e+00],\n",
       "        [-3.6690e-01, -1.1805e+00],\n",
       "        [-3.5265e+00, -2.9848e-02],\n",
       "        [-1.3935e+00, -2.8529e-01],\n",
       "        [-5.6546e-01, -8.3955e-01],\n",
       "        [-6.2311e-01, -7.6846e-01],\n",
       "        [-1.3068e-01, -2.0996e+00],\n",
       "        [-1.2961e-02, -4.3523e+00],\n",
       "        [-6.1502e-01, -7.7789e-01],\n",
       "        [-3.1239e+00, -4.4981e-02],\n",
       "        [-8.2183e-02, -2.5396e+00],\n",
       "        [-1.6125e+00, -2.2239e-01],\n",
       "        [-2.4040e-02, -3.7400e+00],\n",
       "        [-9.7751e-06, -1.1533e+01],\n",
       "        [-2.4149e+00, -9.3629e-02],\n",
       "        [-6.2311e-01, -7.6846e-01],\n",
       "        [-1.2941e+00, -3.2041e-01],\n",
       "        [-9.6945e-01, -4.7689e-01],\n",
       "        [-6.2311e-01, -7.6846e-01],\n",
       "        [-2.5890e-01, -1.4780e+00],\n",
       "        [-3.0710e-01, -1.3302e+00],\n",
       "        [-3.6621e-01, -1.1821e+00],\n",
       "        [-6.2311e-01, -7.6846e-01],\n",
       "        [-2.5240e-01, -1.5003e+00],\n",
       "        [-1.7931e+00, -1.8205e-01],\n",
       "        [-2.5650e+00, -8.0038e-02],\n",
       "        [-6.0207e-01, -7.9336e-01],\n",
       "        [-5.9767e-02, -2.8470e+00],\n",
       "        [-4.6326e-03, -5.3770e+00],\n",
       "        [-7.3559e-02, -2.6462e+00],\n",
       "        [-4.2305e-01, -1.0643e+00],\n",
       "        [-3.3379e-06, -1.2603e+01],\n",
       "        [-2.8992e-01, -1.3796e+00],\n",
       "        [-3.6096e-01, -1.1940e+00],\n",
       "        [-6.4729e-05, -9.6452e+00],\n",
       "        [-3.7431e-05, -1.0194e+01],\n",
       "        [-1.6304e-01, -1.8942e+00],\n",
       "        [-1.5623e+00, -2.3528e-01],\n",
       "        [-1.4021e-01, -2.0339e+00],\n",
       "        [-1.3271e+00, -3.0824e-01],\n",
       "        [-1.0714e-02, -4.5415e+00],\n",
       "        [-2.1477e-01, -1.6437e+00],\n",
       "        [-3.0315e-01, -1.3413e+00],\n",
       "        [-1.6662e+00, -2.0945e-01],\n",
       "        [-3.1459e-02, -3.4747e+00]])"
      ]
     },
     "execution_count": 19,
     "metadata": {},
     "output_type": "execute_result"
    }
   ],
   "source": [
    "output"
   ]
  },
  {
   "cell_type": "code",
   "execution_count": 20,
   "metadata": {},
   "outputs": [
    {
     "data": {
      "text/plain": [
       "tensor([1, 0, 0, 0, 0, 0, 0, 1, 0, 1, 0, 1, 0, 0, 0, 0, 0, 0, 1, 0, 0, 0, 0, 1,\n",
       "        1, 0, 1, 0, 0, 0, 0, 0, 0, 0, 1, 0, 0, 0, 1, 1, 0, 0, 0, 0, 0, 0, 0, 0,\n",
       "        0, 1, 1, 1, 0, 0, 0, 1, 1, 0, 1, 0, 1, 0, 0, 1, 0, 1, 1, 0, 0, 1, 0, 0,\n",
       "        0, 1, 0, 1, 0, 0, 0, 0, 0, 0, 0, 0, 0, 0, 1, 0, 0, 0, 1, 1, 0, 0, 0, 1,\n",
       "        0, 1, 1, 0, 0, 0, 0, 0, 1, 0, 1, 0, 0, 0, 0, 1, 1, 0, 0, 0, 0, 0, 1, 0,\n",
       "        1, 0, 0, 1, 0, 1, 1, 0, 0, 0, 0, 0, 0, 1, 1, 0, 0, 0, 0, 0, 0, 0, 0, 0,\n",
       "        0, 0, 1, 0, 1, 0, 0, 0, 1, 0])"
      ]
     },
     "execution_count": 20,
     "metadata": {},
     "output_type": "execute_result"
    }
   ],
   "source": [
    "pred = output.argmax(1)\n",
    "pred"
   ]
  },
  {
   "cell_type": "markdown",
   "metadata": {},
   "source": [
    "# Accuracy "
   ]
  },
  {
   "cell_type": "code",
   "execution_count": 21,
   "metadata": {},
   "outputs": [
    {
     "data": {
      "text/plain": [
       "0.7532467246055603"
      ]
     },
     "execution_count": 21,
     "metadata": {},
     "output_type": "execute_result"
    }
   ],
   "source": [
    "accuracy = (y_test == pred).to(torch.float32).mean().item()\n",
    "accuracy"
   ]
  },
  {
   "cell_type": "markdown",
   "metadata": {},
   "source": [
    "# Save Model and Weight "
   ]
  },
  {
   "cell_type": "code",
   "execution_count": 22,
   "metadata": {},
   "outputs": [
    {
     "data": {
      "text/plain": [
       "OrderedDict([('0.weight',\n",
       "              tensor([[ 5.0313e-01,  2.2272e-01,  5.5175e-02,  9.3067e-01,  3.1287e-01,\n",
       "                        4.2557e-01, -1.9446e-01],\n",
       "                      [ 1.1000e-01, -3.4392e-01, -2.7654e-01,  8.4637e-02, -7.8029e-01,\n",
       "                       -2.9332e-01,  8.3227e-01],\n",
       "                      [-4.2336e-01,  5.8547e-01,  3.1626e-01, -3.8542e-01,  3.2624e-01,\n",
       "                        4.0953e-02, -2.5256e-01],\n",
       "                      [-9.2255e-01,  4.2046e-01, -4.1822e-01, -2.2477e-01,  4.2254e-01,\n",
       "                       -2.1998e-01,  3.5125e-01],\n",
       "                      [-1.9579e-01, -1.4628e-01, -2.0467e-01,  5.1510e-02,  1.9506e-01,\n",
       "                        9.4112e-02,  2.6335e-01],\n",
       "                      [-7.8575e-01, -4.2921e-02,  1.6182e-04, -9.1870e-02, -2.2464e-01,\n",
       "                        2.6944e-01,  1.2356e-01],\n",
       "                      [-1.2578e-01, -1.3873e-01, -1.2057e-02, -1.4749e-01, -1.6366e-01,\n",
       "                        3.5068e-01, -3.6522e-01],\n",
       "                      [-1.3482e-01, -9.2658e-02, -2.6535e-01,  2.0870e-01, -2.1956e-01,\n",
       "                        1.4591e-01, -3.3036e-02],\n",
       "                      [ 2.2440e-01,  6.2932e-01,  2.9454e-01,  2.8577e-03, -1.3816e-01,\n",
       "                       -7.5067e-01, -5.2745e-01],\n",
       "                      [-6.6787e-01,  2.0711e-01, -1.7325e-01,  4.6650e-01, -2.2794e-01,\n",
       "                       -7.9953e-01, -3.2482e-01],\n",
       "                      [-5.1458e-01,  2.1897e-01,  4.3438e-01, -1.1893e+00, -6.9240e-01,\n",
       "                       -1.7862e-01, -4.2611e-01],\n",
       "                      [-6.2423e-01, -7.2281e-02, -2.8846e-01, -1.9707e-01, -1.3073e-01,\n",
       "                        1.9685e-01, -1.0674e+00],\n",
       "                      [ 2.5538e-01,  2.3427e-01, -1.1089e-02, -2.4838e-01,  6.0551e-01,\n",
       "                       -2.4327e-02,  3.7143e-01],\n",
       "                      [-1.9023e-01,  1.2020e-01, -4.2894e-02, -1.8651e-01,  1.0337e-01,\n",
       "                       -9.8898e-02,  2.0819e-01],\n",
       "                      [-8.7301e-01, -7.5610e-02,  3.7397e-01, -8.6165e-01, -5.8087e-01,\n",
       "                       -2.5234e-01, -3.9572e-01],\n",
       "                      [ 1.2554e-01, -2.4348e-01,  4.1722e-01,  2.1623e-01, -2.8867e-01,\n",
       "                       -6.0121e-01, -6.3125e-01]])),\n",
       "             ('0.bias',\n",
       "              tensor([-0.4112,  0.2719, -0.3791,  0.0354, -0.2471,  0.4448,  0.5402, -0.2745,\n",
       "                       0.0791,  0.4770,  0.3524,  0.4875, -0.3299, -0.2635,  0.3313,  0.4257])),\n",
       "             ('2.weight',\n",
       "              tensor([[ 0.3273, -1.7042,  0.1670,  0.3359,  0.0478, -0.4137, -0.0800,  0.1491,\n",
       "                        0.0864,  0.2113,  1.2415,  0.4715,  0.2974, -0.1518, -1.4773, -0.8808],\n",
       "                      [ 0.0120, -0.1231,  0.0584, -0.1727, -0.0852, -0.1478,  0.1368,  0.0771,\n",
       "                       -0.1503, -0.0181, -0.0205,  0.0889,  0.0265,  0.0157,  0.1179, -0.1061],\n",
       "                      [-0.2172,  2.0076,  0.5654, -0.0286,  0.0252, -0.2398,  0.3474, -0.0464,\n",
       "                       -1.0736,  1.0289, -2.3262, -1.4784,  0.2190,  0.1150, -1.8810, -0.7744],\n",
       "                      [-0.1915,  0.0869, -0.0579,  0.0944, -0.0846, -0.1439, -0.1788,  0.0334,\n",
       "                       -0.0901, -0.0031,  0.1059,  0.0034,  0.0418, -0.0433, -0.1149,  0.0447],\n",
       "                      [-0.3554, -0.0771, -1.4240, -0.6759, -0.0451,  0.1142, -0.3094,  0.1459,\n",
       "                       -0.1167,  0.7018, -0.1601,  0.4765,  0.3467,  0.0515,  2.7782,  0.0569],\n",
       "                      [ 0.3050, -1.7485,  0.2318,  0.2740, -0.0599, -0.4298, -0.2046,  0.0915,\n",
       "                        0.3054,  0.2314,  0.9609,  0.9715,  0.3069,  0.0683, -1.4213, -1.0016],\n",
       "                      [-0.6108, -1.4445, -0.2976, -1.1493,  0.0440, -0.1144,  0.1813, -0.0047,\n",
       "                       -0.1555,  0.6645,  0.5106,  0.7812, -0.1965,  0.0342,  0.9896,  0.4403],\n",
       "                      [-0.5983, -1.2598, -0.8121, -1.1889, -0.1418,  0.2759,  0.1486,  0.0907,\n",
       "                        0.2416,  0.3757, -0.1827,  0.8104, -0.3274, -0.1352,  1.6323,  0.0180]])),\n",
       "             ('2.bias',\n",
       "              tensor([-0.1279, -0.0939,  0.0733, -0.1749,  0.1027, -0.1752,  0.1584,  0.1240])),\n",
       "             ('5.weight',\n",
       "              tensor([[-1.7263, -0.1083,  1.5697,  0.0575,  2.5468, -1.9588,  0.3417,  0.6948],\n",
       "                      [-0.2346, -0.2145,  0.0368,  0.1017, -0.0851,  0.0889,  0.0219, -0.2581],\n",
       "                      [-1.5398,  0.1067,  1.7018,  0.1195,  2.5180, -1.8229,  0.3812,  0.6797],\n",
       "                      [ 1.2802,  0.0940, -3.0908,  0.0360, -1.8477,  1.3719, -2.7056, -2.7312]])),\n",
       "             ('5.bias', tensor([ 0.0939, -0.2436,  0.0963,  0.1160])),\n",
       "             ('8.weight', tensor([[ 1.3782, -0.2094,  1.6576, -1.9805],\n",
       "                      [-1.6317,  0.1717, -1.2687,  1.8168]])),\n",
       "             ('8.bias', tensor([0.0515, 0.0301]))])"
      ]
     },
     "execution_count": 22,
     "metadata": {},
     "output_type": "execute_result"
    }
   ],
   "source": [
    "model.state_dict()"
   ]
  },
  {
   "cell_type": "code",
   "execution_count": 23,
   "metadata": {},
   "outputs": [],
   "source": [
    "torch.save(model.state_dict(), \"../models/weights.pth\")"
   ]
  },
  {
   "cell_type": "code",
   "execution_count": 26,
   "metadata": {},
   "outputs": [],
   "source": [
    "log = {\n",
    "    \"train_cost\": train_cost,\n",
    "    \"test_cost\": test_cost,\n",
    "    \"train_accuracy\": train_accuracy,\n",
    "    \"test_accuracy\": test_accuracy\n",
    "}\n",
    "torch.save(log, \"../models/logs.pth\")"
   ]
  },
  {
   "cell_type": "markdown",
   "metadata": {},
   "source": [
    "# Load Model"
   ]
  },
  {
   "cell_type": "code",
   "execution_count": 27,
   "metadata": {},
   "outputs": [],
   "source": [
    "model = nn.Sequential(\n",
    "    nn.Linear(7, 16),\n",
    "    nn.ReLU(),\n",
    "    nn.Linear(16, 8),\n",
    "    nn.ReLU(),\n",
    "    nn.Dropout(0.25),\n",
    "    nn.Linear(8, 4),\n",
    "    nn.ReLU(),\n",
    "    nn.Dropout(0.2),\n",
    "    nn.Linear(4, 2),\n",
    "    nn.LogSoftmax(1)\n",
    ").to(device)"
   ]
  },
  {
   "cell_type": "code",
   "execution_count": 30,
   "metadata": {},
   "outputs": [
    {
     "data": {
      "text/plain": [
       "OrderedDict([('0.weight',\n",
       "              tensor([[-0.1628, -0.3358, -0.2748, -0.0626,  0.1100,  0.1274,  0.1094],\n",
       "                      [-0.1880, -0.2207,  0.0212, -0.3386,  0.3319, -0.2182,  0.2493],\n",
       "                      [ 0.2250, -0.0703,  0.1273, -0.0603, -0.0901, -0.2635, -0.1554],\n",
       "                      [ 0.1547, -0.3754, -0.0728,  0.1970, -0.3058,  0.0764, -0.0380],\n",
       "                      [ 0.2559,  0.2932,  0.3102,  0.1359,  0.1633, -0.3644, -0.3163],\n",
       "                      [-0.2163,  0.0248,  0.3301,  0.3216, -0.1486,  0.2469,  0.0419],\n",
       "                      [ 0.1118,  0.0849,  0.2098, -0.0042,  0.3248,  0.2825,  0.0728],\n",
       "                      [-0.3609,  0.1576, -0.2845, -0.0727, -0.0014, -0.3600,  0.0256],\n",
       "                      [-0.1192, -0.3768, -0.2820,  0.1854,  0.0872,  0.2408, -0.2448],\n",
       "                      [-0.2246, -0.3719,  0.3530,  0.2426, -0.2173, -0.1019,  0.0612],\n",
       "                      [-0.2148, -0.0706,  0.2109,  0.2550, -0.0181,  0.2109, -0.2145],\n",
       "                      [-0.2683,  0.0421, -0.3315, -0.1725, -0.1270,  0.3575, -0.0331],\n",
       "                      [ 0.1180,  0.2179,  0.0977,  0.0404,  0.3374, -0.2119, -0.3347],\n",
       "                      [ 0.3314, -0.2880,  0.3329, -0.0377, -0.3333,  0.3254,  0.3267],\n",
       "                      [-0.1490, -0.3511,  0.1902, -0.0374,  0.3041,  0.3069, -0.3318],\n",
       "                      [-0.2905,  0.1262, -0.1472, -0.3017, -0.0963,  0.0195, -0.3774]])),\n",
       "             ('0.bias',\n",
       "              tensor([-0.3651,  0.0984, -0.1366,  0.0145, -0.2849,  0.2498, -0.3551,  0.2271,\n",
       "                       0.2013,  0.0818, -0.2333, -0.0900, -0.2095, -0.3734,  0.1451, -0.3740])),\n",
       "             ('2.weight',\n",
       "              tensor([[-0.0525, -0.0655,  0.1513, -0.2338, -0.2025,  0.0592, -0.1040, -0.1534,\n",
       "                       -0.1353,  0.0410, -0.0613,  0.2012, -0.1831,  0.2046, -0.1601,  0.1977],\n",
       "                      [ 0.1858, -0.0092, -0.0450,  0.1435, -0.2403,  0.2110,  0.1377, -0.2351,\n",
       "                       -0.1933,  0.0380,  0.0436, -0.1762, -0.2102, -0.1999, -0.1082, -0.1987],\n",
       "                      [ 0.0317,  0.0497,  0.0776, -0.1174, -0.1195,  0.1608, -0.1809,  0.0212,\n",
       "                        0.1940,  0.2358, -0.1831,  0.0442,  0.1449, -0.0158, -0.2232,  0.2021],\n",
       "                      [-0.1434,  0.2485, -0.0582, -0.0519,  0.0729,  0.1992, -0.2042,  0.1528,\n",
       "                        0.2295, -0.1661,  0.0091, -0.0062,  0.1752, -0.0467, -0.2429,  0.2201],\n",
       "                      [ 0.0505, -0.0275,  0.1896,  0.1122, -0.1832, -0.0250, -0.2081,  0.2406,\n",
       "                       -0.0024, -0.2008, -0.1586,  0.2146,  0.1812,  0.1683, -0.0883,  0.1913],\n",
       "                      [ 0.0981, -0.1897,  0.0058,  0.2256, -0.1418, -0.2064, -0.1575,  0.1255,\n",
       "                        0.0159, -0.1874, -0.1077,  0.0304, -0.0602,  0.1568, -0.2127,  0.1067],\n",
       "                      [-0.0932, -0.1351, -0.0626, -0.2322, -0.2023,  0.2022, -0.0911,  0.0824,\n",
       "                       -0.0123,  0.1947, -0.0993,  0.0870, -0.1756, -0.0517,  0.1044,  0.1694],\n",
       "                      [-0.0732,  0.2499,  0.1414,  0.1758,  0.1242,  0.0026, -0.1145,  0.1273,\n",
       "                       -0.2274,  0.1952, -0.0641,  0.1069,  0.2498,  0.0461, -0.0701,  0.0839]])),\n",
       "             ('2.bias',\n",
       "              tensor([-0.2299,  0.2211, -0.2052,  0.0016, -0.1211,  0.1544, -0.2070,  0.1565])),\n",
       "             ('5.weight',\n",
       "              tensor([[ 0.1738,  0.3024, -0.1049,  0.2839, -0.3380, -0.1621,  0.1031,  0.3487],\n",
       "                      [ 0.1719,  0.1906,  0.0220,  0.0575, -0.2259,  0.1736,  0.2420, -0.0931],\n",
       "                      [ 0.3461, -0.0178,  0.0628,  0.2832,  0.1778,  0.1595, -0.0908, -0.0205],\n",
       "                      [-0.1373, -0.1014, -0.1461,  0.1986,  0.0323, -0.1045, -0.1090,  0.3207]])),\n",
       "             ('5.bias', tensor([-0.0285,  0.2551, -0.2356, -0.1765])),\n",
       "             ('8.weight', tensor([[ 0.2675,  0.0894, -0.0612, -0.4190],\n",
       "                      [-0.4065,  0.1629, -0.1042,  0.0164]])),\n",
       "             ('8.bias', tensor([ 0.3567, -0.3397]))])"
      ]
     },
     "execution_count": 30,
     "metadata": {},
     "output_type": "execute_result"
    }
   ],
   "source": [
    "model.state_dict() # ini jelas tidak akan sama, dikarenakan ini adalah weight awal yang \n",
    "# muncul secara random setelah menjalankan arsitektur dari awal."
   ]
  },
  {
   "cell_type": "code",
   "execution_count": 31,
   "metadata": {},
   "outputs": [],
   "source": [
    "weights = torch.load(\"../models/weights.pth\", map_location=\"cpu\")\n",
    "# load secara default harus cpu.\n",
    "# Karena tidak menutup kemungkinan bahwa model tester tidak memiliki gpu pada environment\n",
    "# hardwarenya."
   ]
  },
  {
   "cell_type": "code",
   "execution_count": 32,
   "metadata": {},
   "outputs": [
    {
     "data": {
      "text/plain": [
       "tensor(0.6494)"
      ]
     },
     "execution_count": 32,
     "metadata": {},
     "output_type": "execute_result"
    }
   ],
   "source": [
    "with torch.no_grad():\n",
    "    model.eval()\n",
    "    output = model(X_test)\n",
    "    pred = output.argmax(1)\n",
    "    accuracy = (y_test == pred).to(torch.float32).mean()\n",
    "accuracy\n",
    "# hasil berubah dari hasi awal karena weightnya belum di-overwrite.\n",
    "# Ini dikarenakan random (yang dimaksud adalah random weight, bukan random prediction)"
   ]
  },
  {
   "cell_type": "code",
   "execution_count": 33,
   "metadata": {},
   "outputs": [],
   "source": [
    "model.load_state_dict(weights)\n",
    "model = model.to(device)"
   ]
  },
  {
   "cell_type": "code",
   "execution_count": 34,
   "metadata": {},
   "outputs": [
    {
     "data": {
      "text/plain": [
       "tensor(0.7532)"
      ]
     },
     "execution_count": 34,
     "metadata": {},
     "output_type": "execute_result"
    }
   ],
   "source": [
    "with torch.no_grad():\n",
    "    model.eval()\n",
    "    output = model(X_test)\n",
    "    pred = output.argmax(1)\n",
    "    accuracy = (y_test == pred).to(torch.float32).mean()\n",
    "accuracy"
   ]
  },
  {
   "cell_type": "code",
   "execution_count": 35,
   "metadata": {},
   "outputs": [
    {
     "data": {
      "text/plain": [
       "OrderedDict([('0.weight',\n",
       "              tensor([[ 5.0313e-01,  2.2272e-01,  5.5175e-02,  9.3067e-01,  3.1287e-01,\n",
       "                        4.2557e-01, -1.9446e-01],\n",
       "                      [ 1.1000e-01, -3.4392e-01, -2.7654e-01,  8.4637e-02, -7.8029e-01,\n",
       "                       -2.9332e-01,  8.3227e-01],\n",
       "                      [-4.2336e-01,  5.8547e-01,  3.1626e-01, -3.8542e-01,  3.2624e-01,\n",
       "                        4.0953e-02, -2.5256e-01],\n",
       "                      [-9.2255e-01,  4.2046e-01, -4.1822e-01, -2.2477e-01,  4.2254e-01,\n",
       "                       -2.1998e-01,  3.5125e-01],\n",
       "                      [-1.9579e-01, -1.4628e-01, -2.0467e-01,  5.1510e-02,  1.9506e-01,\n",
       "                        9.4112e-02,  2.6335e-01],\n",
       "                      [-7.8575e-01, -4.2921e-02,  1.6182e-04, -9.1870e-02, -2.2464e-01,\n",
       "                        2.6944e-01,  1.2356e-01],\n",
       "                      [-1.2578e-01, -1.3873e-01, -1.2057e-02, -1.4749e-01, -1.6366e-01,\n",
       "                        3.5068e-01, -3.6522e-01],\n",
       "                      [-1.3482e-01, -9.2658e-02, -2.6535e-01,  2.0870e-01, -2.1956e-01,\n",
       "                        1.4591e-01, -3.3036e-02],\n",
       "                      [ 2.2440e-01,  6.2932e-01,  2.9454e-01,  2.8577e-03, -1.3816e-01,\n",
       "                       -7.5067e-01, -5.2745e-01],\n",
       "                      [-6.6787e-01,  2.0711e-01, -1.7325e-01,  4.6650e-01, -2.2794e-01,\n",
       "                       -7.9953e-01, -3.2482e-01],\n",
       "                      [-5.1458e-01,  2.1897e-01,  4.3438e-01, -1.1893e+00, -6.9240e-01,\n",
       "                       -1.7862e-01, -4.2611e-01],\n",
       "                      [-6.2423e-01, -7.2281e-02, -2.8846e-01, -1.9707e-01, -1.3073e-01,\n",
       "                        1.9685e-01, -1.0674e+00],\n",
       "                      [ 2.5538e-01,  2.3427e-01, -1.1089e-02, -2.4838e-01,  6.0551e-01,\n",
       "                       -2.4327e-02,  3.7143e-01],\n",
       "                      [-1.9023e-01,  1.2020e-01, -4.2894e-02, -1.8651e-01,  1.0337e-01,\n",
       "                       -9.8898e-02,  2.0819e-01],\n",
       "                      [-8.7301e-01, -7.5610e-02,  3.7397e-01, -8.6165e-01, -5.8087e-01,\n",
       "                       -2.5234e-01, -3.9572e-01],\n",
       "                      [ 1.2554e-01, -2.4348e-01,  4.1722e-01,  2.1623e-01, -2.8867e-01,\n",
       "                       -6.0121e-01, -6.3125e-01]])),\n",
       "             ('0.bias',\n",
       "              tensor([-0.4112,  0.2719, -0.3791,  0.0354, -0.2471,  0.4448,  0.5402, -0.2745,\n",
       "                       0.0791,  0.4770,  0.3524,  0.4875, -0.3299, -0.2635,  0.3313,  0.4257])),\n",
       "             ('2.weight',\n",
       "              tensor([[ 0.3273, -1.7042,  0.1670,  0.3359,  0.0478, -0.4137, -0.0800,  0.1491,\n",
       "                        0.0864,  0.2113,  1.2415,  0.4715,  0.2974, -0.1518, -1.4773, -0.8808],\n",
       "                      [ 0.0120, -0.1231,  0.0584, -0.1727, -0.0852, -0.1478,  0.1368,  0.0771,\n",
       "                       -0.1503, -0.0181, -0.0205,  0.0889,  0.0265,  0.0157,  0.1179, -0.1061],\n",
       "                      [-0.2172,  2.0076,  0.5654, -0.0286,  0.0252, -0.2398,  0.3474, -0.0464,\n",
       "                       -1.0736,  1.0289, -2.3262, -1.4784,  0.2190,  0.1150, -1.8810, -0.7744],\n",
       "                      [-0.1915,  0.0869, -0.0579,  0.0944, -0.0846, -0.1439, -0.1788,  0.0334,\n",
       "                       -0.0901, -0.0031,  0.1059,  0.0034,  0.0418, -0.0433, -0.1149,  0.0447],\n",
       "                      [-0.3554, -0.0771, -1.4240, -0.6759, -0.0451,  0.1142, -0.3094,  0.1459,\n",
       "                       -0.1167,  0.7018, -0.1601,  0.4765,  0.3467,  0.0515,  2.7782,  0.0569],\n",
       "                      [ 0.3050, -1.7485,  0.2318,  0.2740, -0.0599, -0.4298, -0.2046,  0.0915,\n",
       "                        0.3054,  0.2314,  0.9609,  0.9715,  0.3069,  0.0683, -1.4213, -1.0016],\n",
       "                      [-0.6108, -1.4445, -0.2976, -1.1493,  0.0440, -0.1144,  0.1813, -0.0047,\n",
       "                       -0.1555,  0.6645,  0.5106,  0.7812, -0.1965,  0.0342,  0.9896,  0.4403],\n",
       "                      [-0.5983, -1.2598, -0.8121, -1.1889, -0.1418,  0.2759,  0.1486,  0.0907,\n",
       "                        0.2416,  0.3757, -0.1827,  0.8104, -0.3274, -0.1352,  1.6323,  0.0180]])),\n",
       "             ('2.bias',\n",
       "              tensor([-0.1279, -0.0939,  0.0733, -0.1749,  0.1027, -0.1752,  0.1584,  0.1240])),\n",
       "             ('5.weight',\n",
       "              tensor([[-1.7263, -0.1083,  1.5697,  0.0575,  2.5468, -1.9588,  0.3417,  0.6948],\n",
       "                      [-0.2346, -0.2145,  0.0368,  0.1017, -0.0851,  0.0889,  0.0219, -0.2581],\n",
       "                      [-1.5398,  0.1067,  1.7018,  0.1195,  2.5180, -1.8229,  0.3812,  0.6797],\n",
       "                      [ 1.2802,  0.0940, -3.0908,  0.0360, -1.8477,  1.3719, -2.7056, -2.7312]])),\n",
       "             ('5.bias', tensor([ 0.0939, -0.2436,  0.0963,  0.1160])),\n",
       "             ('8.weight', tensor([[ 1.3782, -0.2094,  1.6576, -1.9805],\n",
       "                      [-1.6317,  0.1717, -1.2687,  1.8168]])),\n",
       "             ('8.bias', tensor([0.0515, 0.0301]))])"
      ]
     },
     "execution_count": 35,
     "metadata": {},
     "output_type": "execute_result"
    }
   ],
   "source": [
    "model.state_dict()\n",
    "# Weights sudah mengikuti state yang didapatkan pada training"
   ]
  },
  {
   "cell_type": "code",
   "execution_count": null,
   "metadata": {},
   "outputs": [],
   "source": []
  }
 ],
 "metadata": {
  "kernelspec": {
   "display_name": "jcopdl",
   "language": "python",
   "name": "jcopdl"
  },
  "language_info": {
   "codemirror_mode": {
    "name": "ipython",
    "version": 3
   },
   "file_extension": ".py",
   "mimetype": "text/x-python",
   "name": "python",
   "nbconvert_exporter": "python",
   "pygments_lexer": "ipython3",
   "version": "3.7.6"
  }
 },
 "nbformat": 4,
 "nbformat_minor": 5
}
