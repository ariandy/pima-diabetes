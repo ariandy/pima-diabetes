{
 "cells": [
  {
   "cell_type": "code",
   "execution_count": 1,
   "metadata": {},
   "outputs": [],
   "source": [
    "import sys\n",
    "sys.path.append('..')\n",
    "from src.func import iteratee\n",
    "from src.architecture import DiabetesClassifier\n",
    "\n",
    "import torch\n",
    "from torch import nn, optim\n",
    "from torch.utils.data import DataLoader, TensorDataset\n",
    "\n",
    "import numpy as np\n",
    "import pandas as pd\n",
    "from sklearn.model_selection import train_test_split\n",
    "from sklearn.preprocessing import MinMaxScaler\n",
    "from sklearn.pipeline import Pipeline\n",
    "from sklearn.impute import SimpleImputer\n",
    "from sklearn.compose import ColumnTransformer"
   ]
  },
  {
   "cell_type": "code",
   "execution_count": 2,
   "metadata": {},
   "outputs": [
    {
     "data": {
      "text/plain": [
       "device(type='cpu')"
      ]
     },
     "execution_count": 2,
     "metadata": {},
     "output_type": "execute_result"
    }
   ],
   "source": [
    "device = torch.device(\"cuda\" if torch.cuda.is_available() else \"cpu\")\n",
    "device"
   ]
  },
  {
   "cell_type": "markdown",
   "metadata": {},
   "source": [
    "# Import Data "
   ]
  },
  {
   "cell_type": "code",
   "execution_count": 3,
   "metadata": {},
   "outputs": [
    {
     "data": {
      "text/html": [
       "<div>\n",
       "<style scoped>\n",
       "    .dataframe tbody tr th:only-of-type {\n",
       "        vertical-align: middle;\n",
       "    }\n",
       "\n",
       "    .dataframe tbody tr th {\n",
       "        vertical-align: top;\n",
       "    }\n",
       "\n",
       "    .dataframe thead th {\n",
       "        text-align: right;\n",
       "    }\n",
       "</style>\n",
       "<table border=\"1\" class=\"dataframe\">\n",
       "  <thead>\n",
       "    <tr style=\"text-align: right;\">\n",
       "      <th></th>\n",
       "      <th>Pregnancies</th>\n",
       "      <th>Glucose</th>\n",
       "      <th>BloodPressure</th>\n",
       "      <th>SkinThickness</th>\n",
       "      <th>Insulin</th>\n",
       "      <th>BMI</th>\n",
       "      <th>DiabetesPedigreeFunction</th>\n",
       "      <th>Age</th>\n",
       "      <th>Outcome</th>\n",
       "    </tr>\n",
       "  </thead>\n",
       "  <tbody>\n",
       "    <tr>\n",
       "      <th>0</th>\n",
       "      <td>6</td>\n",
       "      <td>148</td>\n",
       "      <td>72</td>\n",
       "      <td>35</td>\n",
       "      <td>0</td>\n",
       "      <td>33.6</td>\n",
       "      <td>0.627</td>\n",
       "      <td>50</td>\n",
       "      <td>1</td>\n",
       "    </tr>\n",
       "    <tr>\n",
       "      <th>1</th>\n",
       "      <td>1</td>\n",
       "      <td>85</td>\n",
       "      <td>66</td>\n",
       "      <td>29</td>\n",
       "      <td>0</td>\n",
       "      <td>26.6</td>\n",
       "      <td>0.351</td>\n",
       "      <td>31</td>\n",
       "      <td>0</td>\n",
       "    </tr>\n",
       "    <tr>\n",
       "      <th>2</th>\n",
       "      <td>8</td>\n",
       "      <td>183</td>\n",
       "      <td>64</td>\n",
       "      <td>0</td>\n",
       "      <td>0</td>\n",
       "      <td>23.3</td>\n",
       "      <td>0.672</td>\n",
       "      <td>32</td>\n",
       "      <td>1</td>\n",
       "    </tr>\n",
       "    <tr>\n",
       "      <th>3</th>\n",
       "      <td>1</td>\n",
       "      <td>89</td>\n",
       "      <td>66</td>\n",
       "      <td>23</td>\n",
       "      <td>94</td>\n",
       "      <td>28.1</td>\n",
       "      <td>0.167</td>\n",
       "      <td>21</td>\n",
       "      <td>0</td>\n",
       "    </tr>\n",
       "    <tr>\n",
       "      <th>4</th>\n",
       "      <td>0</td>\n",
       "      <td>137</td>\n",
       "      <td>40</td>\n",
       "      <td>35</td>\n",
       "      <td>168</td>\n",
       "      <td>43.1</td>\n",
       "      <td>2.288</td>\n",
       "      <td>33</td>\n",
       "      <td>1</td>\n",
       "    </tr>\n",
       "  </tbody>\n",
       "</table>\n",
       "</div>"
      ],
      "text/plain": [
       "   Pregnancies  Glucose  BloodPressure  SkinThickness  Insulin   BMI  \\\n",
       "0            6      148             72             35        0  33.6   \n",
       "1            1       85             66             29        0  26.6   \n",
       "2            8      183             64              0        0  23.3   \n",
       "3            1       89             66             23       94  28.1   \n",
       "4            0      137             40             35      168  43.1   \n",
       "\n",
       "   DiabetesPedigreeFunction  Age  Outcome  \n",
       "0                     0.627   50        1  \n",
       "1                     0.351   31        0  \n",
       "2                     0.672   32        1  \n",
       "3                     0.167   21        0  \n",
       "4                     2.288   33        1  "
      ]
     },
     "execution_count": 3,
     "metadata": {},
     "output_type": "execute_result"
    }
   ],
   "source": [
    "df = pd.read_csv(\"../data/raw/diabetes.csv\")\n",
    "df.head()"
   ]
  },
  {
   "cell_type": "code",
   "execution_count": 4,
   "metadata": {},
   "outputs": [],
   "source": [
    "df.drop(columns=\"Insulin\", inplace=True)"
   ]
  },
  {
   "cell_type": "markdown",
   "metadata": {},
   "source": [
    "# Dataset Splitting "
   ]
  },
  {
   "cell_type": "code",
   "execution_count": 5,
   "metadata": {},
   "outputs": [
    {
     "data": {
      "text/plain": [
       "((614, 7), (154, 7), (614,), (154,))"
      ]
     },
     "execution_count": 5,
     "metadata": {},
     "output_type": "execute_result"
    }
   ],
   "source": [
    "X = df.drop(columns=\"Outcome\")\n",
    "y = df['Outcome'].values # .values digunakan karena Series/DataFrame pandas tidak bisa dikonversi ke Tensor\n",
    "\n",
    "X_train, X_test, y_train, y_test = train_test_split(X, y, test_size=0.2, stratify=y, random_state=42)\n",
    "X_train.shape, X_test.shape, y_train.shape, y_test.shape"
   ]
  },
  {
   "cell_type": "markdown",
   "metadata": {},
   "source": [
    "# Preprocess Data "
   ]
  },
  {
   "cell_type": "code",
   "execution_count": 6,
   "metadata": {},
   "outputs": [
    {
     "data": {
      "text/html": [
       "<div>\n",
       "<style scoped>\n",
       "    .dataframe tbody tr th:only-of-type {\n",
       "        vertical-align: middle;\n",
       "    }\n",
       "\n",
       "    .dataframe tbody tr th {\n",
       "        vertical-align: top;\n",
       "    }\n",
       "\n",
       "    .dataframe thead th {\n",
       "        text-align: right;\n",
       "    }\n",
       "</style>\n",
       "<table border=\"1\" class=\"dataframe\">\n",
       "  <thead>\n",
       "    <tr style=\"text-align: right;\">\n",
       "      <th></th>\n",
       "      <th>Pregnancies</th>\n",
       "      <th>Glucose</th>\n",
       "      <th>BloodPressure</th>\n",
       "      <th>SkinThickness</th>\n",
       "      <th>BMI</th>\n",
       "      <th>DiabetesPedigreeFunction</th>\n",
       "      <th>Age</th>\n",
       "    </tr>\n",
       "  </thead>\n",
       "  <tbody>\n",
       "    <tr>\n",
       "      <th>353</th>\n",
       "      <td>1</td>\n",
       "      <td>90</td>\n",
       "      <td>62</td>\n",
       "      <td>12</td>\n",
       "      <td>27.2</td>\n",
       "      <td>0.580</td>\n",
       "      <td>24</td>\n",
       "    </tr>\n",
       "    <tr>\n",
       "      <th>711</th>\n",
       "      <td>5</td>\n",
       "      <td>126</td>\n",
       "      <td>78</td>\n",
       "      <td>27</td>\n",
       "      <td>29.6</td>\n",
       "      <td>0.439</td>\n",
       "      <td>40</td>\n",
       "    </tr>\n",
       "    <tr>\n",
       "      <th>373</th>\n",
       "      <td>2</td>\n",
       "      <td>105</td>\n",
       "      <td>58</td>\n",
       "      <td>40</td>\n",
       "      <td>34.9</td>\n",
       "      <td>0.225</td>\n",
       "      <td>25</td>\n",
       "    </tr>\n",
       "    <tr>\n",
       "      <th>46</th>\n",
       "      <td>1</td>\n",
       "      <td>146</td>\n",
       "      <td>56</td>\n",
       "      <td>0</td>\n",
       "      <td>29.7</td>\n",
       "      <td>0.564</td>\n",
       "      <td>29</td>\n",
       "    </tr>\n",
       "    <tr>\n",
       "      <th>682</th>\n",
       "      <td>0</td>\n",
       "      <td>95</td>\n",
       "      <td>64</td>\n",
       "      <td>39</td>\n",
       "      <td>44.6</td>\n",
       "      <td>0.366</td>\n",
       "      <td>22</td>\n",
       "    </tr>\n",
       "  </tbody>\n",
       "</table>\n",
       "</div>"
      ],
      "text/plain": [
       "     Pregnancies  Glucose  BloodPressure  SkinThickness   BMI  \\\n",
       "353            1       90             62             12  27.2   \n",
       "711            5      126             78             27  29.6   \n",
       "373            2      105             58             40  34.9   \n",
       "46             1      146             56              0  29.7   \n",
       "682            0       95             64             39  44.6   \n",
       "\n",
       "     DiabetesPedigreeFunction  Age  \n",
       "353                     0.580   24  \n",
       "711                     0.439   40  \n",
       "373                     0.225   25  \n",
       "46                      0.564   29  \n",
       "682                     0.366   22  "
      ]
     },
     "execution_count": 6,
     "metadata": {},
     "output_type": "execute_result"
    }
   ],
   "source": [
    "X_train.head()"
   ]
  },
  {
   "cell_type": "code",
   "execution_count": 7,
   "metadata": {},
   "outputs": [],
   "source": [
    "numerical_pipeline = Pipeline([\n",
    "    (\"imputer\", SimpleImputer(strategy=\"median\")),\n",
    "    (\"scaler\", MinMaxScaler())\n",
    "])\n",
    "\n",
    "preprocessor = ColumnTransformer([\n",
    "    ('numeric', numerical_pipeline, X_train.columns)\n",
    "])"
   ]
  },
  {
   "cell_type": "code",
   "execution_count": 8,
   "metadata": {},
   "outputs": [],
   "source": [
    "X_train = preprocessor.fit_transform(X_train)\n",
    "X_test = preprocessor.fit_transform(X_test)"
   ]
  },
  {
   "cell_type": "markdown",
   "metadata": {},
   "source": [
    "# Dataset"
   ]
  },
  {
   "cell_type": "code",
   "execution_count": 9,
   "metadata": {},
   "outputs": [],
   "source": [
    "X_train = torch.FloatTensor(X_train).to(device)\n",
    "X_test = torch.FloatTensor(X_test).to(device)\n",
    "y_train = torch.LongTensor(y_train).to(device)\n",
    "y_test = torch.LongTensor(y_test).to(device)"
   ]
  },
  {
   "cell_type": "code",
   "execution_count": 10,
   "metadata": {},
   "outputs": [],
   "source": [
    "train_set = TensorDataset(X_train, y_train)\n",
    "trainloader = DataLoader(train_set, batch_size=64, shuffle=True)\n",
    "test_set = TensorDataset(X_test, y_test)\n",
    "testloader = DataLoader(test_set, batch_size=64)"
   ]
  },
  {
   "cell_type": "markdown",
   "metadata": {},
   "source": [
    "# Training Preparation"
   ]
  },
  {
   "cell_type": "code",
   "execution_count": 11,
   "metadata": {},
   "outputs": [
    {
     "data": {
      "text/plain": [
       "torch.Size([614, 7])"
      ]
     },
     "execution_count": 11,
     "metadata": {},
     "output_type": "execute_result"
    }
   ],
   "source": [
    "X_train.shape"
   ]
  },
  {
   "cell_type": "code",
   "execution_count": 12,
   "metadata": {},
   "outputs": [
    {
     "data": {
      "text/plain": [
       "DiabetesClassifier(\n",
       "  (fc): Sequential(\n",
       "    (0): Sequential(\n",
       "      (0): Linear(in_features=7, out_features=16, bias=True)\n",
       "      (1): ReLU()\n",
       "      (2): Dropout(p=0.2, inplace=False)\n",
       "    )\n",
       "    (1): Sequential(\n",
       "      (0): Linear(in_features=16, out_features=8, bias=True)\n",
       "      (1): ReLU()\n",
       "      (2): Dropout(p=0.2, inplace=False)\n",
       "    )\n",
       "    (2): Sequential(\n",
       "      (0): Linear(in_features=8, out_features=4, bias=True)\n",
       "      (1): ReLU()\n",
       "      (2): Dropout(p=0.2, inplace=False)\n",
       "    )\n",
       "    (3): Sequential(\n",
       "      (0): Linear(in_features=4, out_features=2, bias=True)\n",
       "      (1): LogSoftmax()\n",
       "    )\n",
       "  )\n",
       ")"
      ]
     },
     "execution_count": 12,
     "metadata": {},
     "output_type": "execute_result"
    }
   ],
   "source": [
    "model = DiabetesClassifier(7,16,8,4,2,dropout=0.2).to(device)\n",
    "criterion = nn.NLLLoss()\n",
    "#Semisal tidak menggunakan nn.LogSoftMax(), maka criterionnya menggunakan nn.CrossEntropyLoss\n",
    "optimizer = optim.AdamW(model.parameters(), lr=0.003)\n",
    "model"
   ]
  },
  {
   "cell_type": "markdown",
   "metadata": {},
   "source": [
    "# Training Loop "
   ]
  },
  {
   "cell_type": "code",
   "execution_count": 13,
   "metadata": {},
   "outputs": [
    {
     "name": "stdout",
     "output_type": "stream",
     "text": [
      "Epoch: 1000/1000 | train_cost: 0.4398 | test_cost: 0.4398 | train_accuracy: 0.8046 | test_accuracy: 0.6948 "
     ]
    }
   ],
   "source": [
    "epochs = 1000\n",
    "\n",
    "train_cost, test_cost = [], []\n",
    "train_accuracy, test_accuracy = [], []\n",
    "\n",
    "for i in range(epochs):\n",
    "    cost, accuracy = iteratee(\"train\", train_set, trainloader, model, criterion, optimizer, device)\n",
    "    train_cost.append(cost)\n",
    "    train_accuracy.append(accuracy)\n",
    "    \n",
    "    with torch.no_grad():\n",
    "        cost, accuracy = iteratee(\"test\", test_set, testloader, model, criterion, optimizer, device)\n",
    "        test_cost.append(cost)\n",
    "        test_accuracy.append(accuracy)\n",
    "\n",
    "    print(f\"\\rEpoch: {i+1:4}/{epochs:4} | \"\n",
    "          f\"train_cost: {train_cost[-1]:.4f} | test_cost: {train_cost[-1]:.4f} | \"\n",
    "          f\"train_accuracy: {train_accuracy[-1]:.4f} | test_accuracy: {test_accuracy[-1]:.4f}\", end=\" \")"
   ]
  },
  {
   "cell_type": "markdown",
   "metadata": {},
   "source": [
    "# Cost History "
   ]
  },
  {
   "cell_type": "code",
   "execution_count": 14,
   "metadata": {},
   "outputs": [],
   "source": [
    "import matplotlib.pyplot as plt"
   ]
  },
  {
   "cell_type": "code",
   "execution_count": 15,
   "metadata": {},
   "outputs": [
    {
     "data": {
      "image/png": "[encoded data removed]",
      "text/plain": [
       "<Figure size 1080x360 with 2 Axes>"
      ]
     },
     "metadata": {
      "needs_background": "light"
     },
     "output_type": "display_data"
    }
   ],
   "source": [
    "plt.figure(figsize=(15, 5))\n",
    "\n",
    "plt.subplot(121)\n",
    "plt.plot(train_cost, 'r-', label=\"Train\")\n",
    "plt.plot(test_cost, 'b-', label=\"Test\")\n",
    "plt.xlabel(\"epoch\"); plt.ylabel(\"cost\"); plt.legend();\n",
    "plt.subplot(122)\n",
    "plt.plot(train_accuracy, 'r-', label=\"Train\")\n",
    "plt.plot(test_accuracy, 'b-', label=\"Test\")\n",
    "plt.xlabel(\"epoch\"); plt.ylabel(\"accuracy\"); plt.legend();"
   ]
  },
  {
   "cell_type": "markdown",
   "metadata": {},
   "source": [
    "# Predict"
   ]
  },
  {
   "cell_type": "code",
   "execution_count": 16,
   "metadata": {},
   "outputs": [
    {
     "data": {
      "text/plain": [
       "torch.Size([154, 7])"
      ]
     },
     "execution_count": 16,
     "metadata": {},
     "output_type": "execute_result"
    }
   ],
   "source": [
    "X_test.shape"
   ]
  },
  {
   "cell_type": "code",
   "execution_count": 17,
   "metadata": {},
   "outputs": [],
   "source": [
    "with torch.no_grad():\n",
    "    model.eval()\n",
    "    output = model(X_test)"
   ]
  },
  {
   "cell_type": "code",
   "execution_count": 18,
   "metadata": {},
   "outputs": [
    {
     "data": {
      "text/plain": [
       "tensor([[2.5140e-01, 7.4860e-01],\n",
       "        [6.9824e-01, 3.0176e-01],\n",
       "        [4.7385e-01, 5.2615e-01],\n",
       "        [4.9344e-01, 5.0656e-01],\n",
       "        [9.9789e-01, 2.1145e-03],\n",
       "        [5.5973e-01, 4.4027e-01],\n",
       "        [4.4634e-01, 5.5366e-01],\n",
       "        [9.8016e-02, 9.0198e-01],\n",
       "        [9.0851e-01, 9.1495e-02],\n",
       "        [1.1119e-02, 9.8888e-01],\n",
       "        [4.0655e-01, 5.9345e-01],\n",
       "        [1.4156e-03, 9.9858e-01],\n",
       "        [9.2089e-01, 7.9113e-02],\n",
       "        [9.1489e-01, 8.5115e-02],\n",
       "        [7.3300e-01, 2.6700e-01],\n",
       "        [4.5473e-01, 5.4527e-01],\n",
       "        [7.3300e-01, 2.6700e-01],\n",
       "        [9.2398e-01, 7.6016e-02],\n",
       "        [1.4365e-01, 8.5635e-01],\n",
       "        [5.1881e-01, 4.8119e-01],\n",
       "        [7.3300e-01, 2.6700e-01],\n",
       "        [2.3718e-01, 7.6282e-01],\n",
       "        [8.2202e-01, 1.7798e-01],\n",
       "        [1.7822e-01, 8.2178e-01],\n",
       "        [7.1800e-01, 2.8200e-01],\n",
       "        [9.2103e-01, 7.8972e-02],\n",
       "        [3.4833e-01, 6.5167e-01],\n",
       "        [9.3668e-01, 6.3316e-02],\n",
       "        [7.5736e-01, 2.4264e-01],\n",
       "        [9.7378e-01, 2.6217e-02],\n",
       "        [9.6298e-01, 3.7023e-02],\n",
       "        [9.6945e-01, 3.0549e-02],\n",
       "        [4.1233e-01, 5.8767e-01],\n",
       "        [1.5542e-01, 8.4458e-01],\n",
       "        [2.8294e-01, 7.1706e-01],\n",
       "        [9.2760e-01, 7.2395e-02],\n",
       "        [4.7522e-01, 5.2478e-01],\n",
       "        [9.1732e-01, 8.2679e-02],\n",
       "        [3.3200e-01, 6.6800e-01],\n",
       "        [3.9050e-01, 6.0950e-01],\n",
       "        [3.8423e-01, 6.1577e-01],\n",
       "        [4.1184e-01, 5.8816e-01],\n",
       "        [9.1174e-01, 8.8260e-02],\n",
       "        [5.0546e-01, 4.9454e-01],\n",
       "        [8.2111e-01, 1.7889e-01],\n",
       "        [7.3300e-01, 2.6700e-01],\n",
       "        [5.7572e-01, 4.2428e-01],\n",
       "        [7.2546e-01, 2.7454e-01],\n",
       "        [2.4742e-01, 7.5258e-01],\n",
       "        [3.3266e-01, 6.6734e-01],\n",
       "        [3.3775e-01, 6.6225e-01],\n",
       "        [7.9045e-04, 9.9921e-01],\n",
       "        [4.9863e-01, 5.0137e-01],\n",
       "        [9.3834e-01, 6.1657e-02],\n",
       "        [3.9745e-01, 6.0255e-01],\n",
       "        [7.3300e-01, 2.6700e-01],\n",
       "        [3.0299e-01, 6.9701e-01],\n",
       "        [7.2612e-01, 2.7388e-01],\n",
       "        [4.3742e-01, 5.6258e-01],\n",
       "        [8.4843e-01, 1.5157e-01],\n",
       "        [2.4313e-01, 7.5687e-01],\n",
       "        [2.8936e-01, 7.1064e-01],\n",
       "        [9.9605e-01, 3.9451e-03],\n",
       "        [9.9407e-02, 9.0059e-01],\n",
       "        [9.5504e-01, 4.4962e-02],\n",
       "        [3.6640e-01, 6.3360e-01],\n",
       "        [7.5078e-02, 9.2492e-01],\n",
       "        [9.9146e-01, 8.5401e-03],\n",
       "        [4.7814e-01, 5.2186e-01],\n",
       "        [4.8953e-01, 5.1047e-01],\n",
       "        [6.0006e-01, 3.9994e-01],\n",
       "        [8.8686e-01, 1.1314e-01],\n",
       "        [5.3359e-01, 4.6641e-01],\n",
       "        [3.9704e-01, 6.0296e-01],\n",
       "        [9.8515e-01, 1.4848e-02],\n",
       "        [4.0946e-01, 5.9054e-01],\n",
       "        [9.7360e-01, 2.6399e-02],\n",
       "        [4.9372e-01, 5.0628e-01],\n",
       "        [8.3146e-01, 1.6854e-01],\n",
       "        [9.1249e-01, 8.7510e-02],\n",
       "        [9.3235e-01, 6.7652e-02],\n",
       "        [4.6951e-01, 5.3049e-01],\n",
       "        [9.7353e-01, 2.6470e-02],\n",
       "        [4.8134e-01, 5.1866e-01],\n",
       "        [6.6926e-01, 3.3074e-01],\n",
       "        [6.7932e-01, 3.2068e-01],\n",
       "        [4.0002e-01, 5.9998e-01],\n",
       "        [4.1578e-01, 5.8422e-01],\n",
       "        [9.3077e-01, 6.9228e-02],\n",
       "        [4.8970e-01, 5.1030e-01],\n",
       "        [3.1801e-01, 6.8199e-01],\n",
       "        [1.7595e-01, 8.2405e-01],\n",
       "        [6.5192e-01, 3.4808e-01],\n",
       "        [7.3300e-01, 2.6700e-01],\n",
       "        [4.3108e-01, 5.6892e-01],\n",
       "        [2.0323e-01, 7.9677e-01],\n",
       "        [5.4918e-02, 9.4508e-01],\n",
       "        [2.9494e-01, 7.0506e-01],\n",
       "        [1.3839e-01, 8.6162e-01],\n",
       "        [8.6524e-01, 1.3476e-01],\n",
       "        [9.2648e-01, 7.3524e-02],\n",
       "        [4.2820e-01, 5.7180e-01],\n",
       "        [6.2561e-01, 3.7439e-01],\n",
       "        [8.6964e-01, 1.3036e-01],\n",
       "        [2.5750e-04, 9.9974e-01],\n",
       "        [8.9372e-01, 1.0628e-01],\n",
       "        [4.3805e-08, 1.0000e+00],\n",
       "        [8.8290e-01, 1.1710e-01],\n",
       "        [7.3300e-01, 2.6700e-01],\n",
       "        [4.0614e-01, 5.9386e-01],\n",
       "        [3.5453e-01, 6.4547e-01],\n",
       "        [1.2991e-01, 8.7009e-01],\n",
       "        [4.1282e-01, 5.8718e-01],\n",
       "        [4.7992e-01, 5.2008e-01],\n",
       "        [5.2425e-01, 4.7575e-01],\n",
       "        [8.6925e-01, 1.3075e-01],\n",
       "        [3.8170e-01, 6.1830e-01],\n",
       "        [7.2612e-01, 2.7388e-01],\n",
       "        [3.0136e-01, 6.9864e-01],\n",
       "        [7.3300e-01, 2.6700e-01],\n",
       "        [1.1679e-02, 9.8832e-01],\n",
       "        [8.8641e-01, 1.1359e-01],\n",
       "        [8.7414e-01, 1.2586e-01],\n",
       "        [2.2806e-02, 9.7719e-01],\n",
       "        [4.4994e-01, 5.5006e-01],\n",
       "        [2.1478e-01, 7.8522e-01],\n",
       "        [3.9010e-01, 6.0990e-01],\n",
       "        [3.8882e-01, 6.1118e-01],\n",
       "        [8.1086e-01, 1.8914e-01],\n",
       "        [8.6851e-01, 1.3149e-01],\n",
       "        [6.8937e-01, 3.1063e-01],\n",
       "        [3.8654e-01, 6.1346e-01],\n",
       "        [8.4447e-01, 1.5553e-01],\n",
       "        [2.7475e-01, 7.2525e-01],\n",
       "        [2.6088e-01, 7.3912e-01],\n",
       "        [8.9784e-01, 1.0216e-01],\n",
       "        [9.2500e-01, 7.5002e-02],\n",
       "        [9.7386e-01, 2.6140e-02],\n",
       "        [9.5610e-01, 4.3902e-02],\n",
       "        [7.3300e-01, 2.6700e-01],\n",
       "        [9.8766e-01, 1.2336e-02],\n",
       "        [7.3300e-01, 2.6700e-01],\n",
       "        [6.2511e-01, 3.7489e-01],\n",
       "        [9.9755e-01, 2.4491e-03],\n",
       "        [8.9016e-01, 1.0984e-01],\n",
       "        [7.2612e-01, 2.7388e-01],\n",
       "        [3.3747e-01, 6.6253e-01],\n",
       "        [7.3300e-01, 2.6700e-01],\n",
       "        [2.9346e-01, 7.0654e-01],\n",
       "        [9.6657e-01, 3.3429e-02],\n",
       "        [8.9268e-01, 1.0732e-01],\n",
       "        [5.6550e-01, 4.3450e-01],\n",
       "        [2.0843e-01, 7.9157e-01],\n",
       "        [9.1811e-01, 8.1893e-02]])"
      ]
     },
     "execution_count": 18,
     "metadata": {},
     "output_type": "execute_result"
    }
   ],
   "source": [
    "torch.exp(output)"
   ]
  },
  {
   "cell_type": "code",
   "execution_count": 19,
   "metadata": {},
   "outputs": [
    {
     "data": {
      "text/plain": [
       "tensor([[-1.3807e+00, -2.8955e-01],\n",
       "        [-3.5919e-01, -1.1981e+00],\n",
       "        [-7.4685e-01, -6.4218e-01],\n",
       "        [-7.0635e-01, -6.8012e-01],\n",
       "        [-2.1167e-03, -6.1589e+00],\n",
       "        [-5.8031e-01, -8.2036e-01],\n",
       "        [-8.0667e-01, -5.9121e-01],\n",
       "        [-2.3226e+00, -1.0316e-01],\n",
       "        [-9.5955e-02, -2.3915e+00],\n",
       "        [-4.4991e+00, -1.1181e-02],\n",
       "        [-9.0006e-01, -5.2180e-01],\n",
       "        [-6.5602e+00, -1.4166e-03],\n",
       "        [-8.2418e-02, -2.5369e+00],\n",
       "        [-8.8957e-02, -2.4638e+00],\n",
       "        [-3.1061e-01, -1.3205e+00],\n",
       "        [-7.8805e-01, -6.0648e-01],\n",
       "        [-3.1061e-01, -1.3205e+00],\n",
       "        [-7.9060e-02, -2.5768e+00],\n",
       "        [-1.9403e+00, -1.5508e-01],\n",
       "        [-6.5621e-01, -7.3150e-01],\n",
       "        [-3.1061e-01, -1.3205e+00],\n",
       "        [-1.4389e+00, -2.7074e-01],\n",
       "        [-1.9599e-01, -1.7261e+00],\n",
       "        [-1.7247e+00, -1.9628e-01],\n",
       "        [-3.3128e-01, -1.2659e+00],\n",
       "        [-8.2265e-02, -2.5387e+00],\n",
       "        [-1.0546e+00, -4.2822e-01],\n",
       "        [-6.5409e-02, -2.7596e+00],\n",
       "        [-2.7791e-01, -1.4162e+00],\n",
       "        [-2.6567e-02, -3.6413e+00],\n",
       "        [-3.7726e-02, -3.2962e+00],\n",
       "        [-3.1025e-02, -3.4884e+00],\n",
       "        [-8.8593e-01, -5.3159e-01],\n",
       "        [-1.8616e+00, -1.6891e-01],\n",
       "        [-1.2625e+00, -3.3259e-01],\n",
       "        [-7.5150e-02, -2.6256e+00],\n",
       "        [-7.4398e-01, -6.4477e-01],\n",
       "        [-8.6298e-02, -2.4928e+00],\n",
       "        [-1.1026e+00, -4.0346e-01],\n",
       "        [-9.4032e-01, -4.9512e-01],\n",
       "        [-9.5652e-01, -4.8488e-01],\n",
       "        [-8.8713e-01, -5.3075e-01],\n",
       "        [-9.2401e-02, -2.4275e+00],\n",
       "        [-6.8230e-01, -7.0412e-01],\n",
       "        [-1.9710e-01, -1.7210e+00],\n",
       "        [-3.1061e-01, -1.3205e+00],\n",
       "        [-5.5213e-01, -8.5736e-01],\n",
       "        [-3.2096e-01, -1.2926e+00],\n",
       "        [-1.3967e+00, -2.8425e-01],\n",
       "        [-1.1006e+00, -4.0445e-01],\n",
       "        [-1.0854e+00, -4.1212e-01],\n",
       "        [-7.1429e+00, -7.9076e-04],\n",
       "        [-6.9590e-01, -6.9040e-01],\n",
       "        [-6.3640e-02, -2.7862e+00],\n",
       "        [-9.2268e-01, -5.0659e-01],\n",
       "        [-3.1061e-01, -1.3205e+00],\n",
       "        [-1.1941e+00, -3.6095e-01],\n",
       "        [-3.2004e-01, -1.2951e+00],\n",
       "        [-8.2686e-01, -5.7522e-01],\n",
       "        [-1.6437e-01, -1.8867e+00],\n",
       "        [-1.4141e+00, -2.7857e-01],\n",
       "        [-1.2401e+00, -3.4159e-01],\n",
       "        [-3.9529e-03, -5.5353e+00],\n",
       "        [-2.3085e+00, -1.0470e-01],\n",
       "        [-4.6004e-02, -3.1019e+00],\n",
       "        [-1.0040e+00, -4.5633e-01],\n",
       "        [-2.5892e+00, -7.8045e-02],\n",
       "        [-8.5768e-03, -4.7630e+00],\n",
       "        [-7.3785e-01, -6.5035e-01],\n",
       "        [-7.1430e-01, -6.7243e-01],\n",
       "        [-5.1072e-01, -9.1644e-01],\n",
       "        [-1.2007e-01, -2.1791e+00],\n",
       "        [-6.2813e-01, -7.6268e-01],\n",
       "        [-9.2371e-01, -5.0591e-01],\n",
       "        [-1.4959e-02, -4.2099e+00],\n",
       "        [-8.9293e-01, -5.2671e-01],\n",
       "        [-2.6753e-02, -3.6344e+00],\n",
       "        [-7.0580e-01, -6.8066e-01],\n",
       "        [-1.8457e-01, -1.7806e+00],\n",
       "        [-9.1578e-02, -2.4360e+00],\n",
       "        [-7.0049e-02, -2.6934e+00],\n",
       "        [-7.5606e-01, -6.3396e-01],\n",
       "        [-2.6827e-02, -3.6317e+00],\n",
       "        [-7.3119e-01, -6.5650e-01],\n",
       "        [-4.0158e-01, -1.1064e+00],\n",
       "        [-3.8666e-01, -1.1373e+00],\n",
       "        [-9.1623e-01, -5.1086e-01],\n",
       "        [-8.7761e-01, -5.3747e-01],\n",
       "        [-7.1741e-02, -2.6703e+00],\n",
       "        [-7.1397e-01, -6.7275e-01],\n",
       "        [-1.1457e+00, -3.8274e-01],\n",
       "        [-1.7376e+00, -1.9352e-01],\n",
       "        [-4.2783e-01, -1.0553e+00],\n",
       "        [-3.1061e-01, -1.3205e+00],\n",
       "        [-8.4146e-01, -5.6402e-01],\n",
       "        [-1.5934e+00, -2.2718e-01],\n",
       "        [-2.9019e+00, -5.6483e-02],\n",
       "        [-1.2210e+00, -3.4947e-01],\n",
       "        [-1.9777e+00, -1.4895e-01],\n",
       "        [-1.4475e-01, -2.0043e+00],\n",
       "        [-7.6367e-02, -2.6101e+00],\n",
       "        [-8.4816e-01, -5.5897e-01],\n",
       "        [-4.6903e-01, -9.8246e-01],\n",
       "        [-1.3967e-01, -2.0375e+00],\n",
       "        [-8.2645e+00, -2.5758e-04],\n",
       "        [-1.1236e-01, -2.2417e+00],\n",
       "        [-1.6944e+01,  0.0000e+00],\n",
       "        [-1.2454e-01, -2.1448e+00],\n",
       "        [-3.1061e-01, -1.3205e+00],\n",
       "        [-9.0106e-01, -5.2111e-01],\n",
       "        [-1.0370e+00, -4.3777e-01],\n",
       "        [-2.0409e+00, -1.3916e-01],\n",
       "        [-8.8473e-01, -5.3243e-01],\n",
       "        [-7.3413e-01, -6.5378e-01],\n",
       "        [-6.4579e-01, -7.4285e-01],\n",
       "        [-1.4013e-01, -2.0345e+00],\n",
       "        [-9.6313e-01, -4.8078e-01],\n",
       "        [-3.2004e-01, -1.2951e+00],\n",
       "        [-1.1994e+00, -3.5862e-01],\n",
       "        [-3.1061e-01, -1.3205e+00],\n",
       "        [-4.4500e+00, -1.1747e-02],\n",
       "        [-1.2057e-01, -2.1752e+00],\n",
       "        [-1.3451e-01, -2.0726e+00],\n",
       "        [-3.7807e+00, -2.3070e-02],\n",
       "        [-7.9863e-01, -5.9774e-01],\n",
       "        [-1.5381e+00, -2.4179e-01],\n",
       "        [-9.4135e-01, -4.9446e-01],\n",
       "        [-9.4463e-01, -4.9237e-01],\n",
       "        [-2.0966e-01, -1.6653e+00],\n",
       "        [-1.4097e-01, -2.0289e+00],\n",
       "        [-3.7198e-01, -1.1691e+00],\n",
       "        [-9.5053e-01, -4.8864e-01],\n",
       "        [-1.6904e-01, -1.8609e+00],\n",
       "        [-1.2919e+00, -3.2124e-01],\n",
       "        [-1.3437e+00, -3.0230e-01],\n",
       "        [-1.0776e-01, -2.2813e+00],\n",
       "        [-7.7964e-02, -2.5902e+00],\n",
       "        [-2.6487e-02, -3.6443e+00],\n",
       "        [-4.4895e-02, -3.1258e+00],\n",
       "        [-3.1061e-01, -1.3205e+00],\n",
       "        [-1.2413e-02, -4.3952e+00],\n",
       "        [-3.1061e-01, -1.3205e+00],\n",
       "        [-4.6983e-01, -9.8112e-01],\n",
       "        [-2.4521e-03, -6.0120e+00],\n",
       "        [-1.1635e-01, -2.2087e+00],\n",
       "        [-3.2004e-01, -1.2951e+00],\n",
       "        [-1.0863e+00, -4.1169e-01],\n",
       "        [-3.1061e-01, -1.3205e+00],\n",
       "        [-1.2260e+00, -3.4738e-01],\n",
       "        [-3.4001e-02, -3.3983e+00],\n",
       "        [-1.1353e-01, -2.2320e+00],\n",
       "        [-5.7004e-01, -8.3356e-01],\n",
       "        [-1.5681e+00, -2.3374e-01],\n",
       "        [-8.5441e-02, -2.5023e+00]])"
      ]
     },
     "execution_count": 19,
     "metadata": {},
     "output_type": "execute_result"
    }
   ],
   "source": [
    "output"
   ]
  },
  {
   "cell_type": "code",
   "execution_count": 20,
   "metadata": {},
   "outputs": [
    {
     "data": {
      "text/plain": [
       "tensor([1, 0, 1, 1, 0, 0, 1, 1, 0, 1, 1, 1, 0, 0, 0, 1, 0, 0, 1, 0, 0, 1, 0, 1,\n",
       "        0, 0, 1, 0, 0, 0, 0, 0, 1, 1, 1, 0, 1, 0, 1, 1, 1, 1, 0, 0, 0, 0, 0, 0,\n",
       "        1, 1, 1, 1, 1, 0, 1, 0, 1, 0, 1, 0, 1, 1, 0, 1, 0, 1, 1, 0, 1, 1, 0, 0,\n",
       "        0, 1, 0, 1, 0, 1, 0, 0, 0, 1, 0, 1, 0, 0, 1, 1, 0, 1, 1, 1, 0, 0, 1, 1,\n",
       "        1, 1, 1, 0, 0, 1, 0, 0, 1, 0, 1, 0, 0, 1, 1, 1, 1, 1, 0, 0, 1, 0, 1, 0,\n",
       "        1, 0, 0, 1, 1, 1, 1, 1, 0, 0, 0, 1, 0, 1, 1, 0, 0, 0, 0, 0, 0, 0, 0, 0,\n",
       "        0, 0, 1, 0, 1, 0, 0, 0, 1, 0])"
      ]
     },
     "execution_count": 20,
     "metadata": {},
     "output_type": "execute_result"
    }
   ],
   "source": [
    "pred = output.argmax(1)\n",
    "pred"
   ]
  },
  {
   "cell_type": "markdown",
   "metadata": {},
   "source": [
    "# Accuracy "
   ]
  },
  {
   "cell_type": "code",
   "execution_count": 21,
   "metadata": {},
   "outputs": [
    {
     "data": {
      "text/plain": [
       "0.6948052048683167"
      ]
     },
     "execution_count": 21,
     "metadata": {},
     "output_type": "execute_result"
    }
   ],
   "source": [
    "accuracy = (y_test == pred).to(torch.float32).mean().item()\n",
    "accuracy"
   ]
  },
  {
   "cell_type": "markdown",
   "metadata": {},
   "source": [
    "# Save Model and Weight "
   ]
  },
  {
   "cell_type": "code",
   "execution_count": 22,
   "metadata": {},
   "outputs": [
    {
     "data": {
      "text/plain": [
       "OrderedDict([('fc.0.0.weight',\n",
       "              tensor([[-1.8135,  0.4516, -0.5251,  0.2819,  0.2978,  0.3603, -0.7864],\n",
       "                      [-0.5458,  0.5265,  0.1959, -0.1876,  0.2073, -0.2463,  0.0902],\n",
       "                      [ 0.1117, -0.1054, -0.0422,  0.2305, -0.2776, -0.0731, -0.0479],\n",
       "                      [ 0.2211,  0.6501, -0.1281, -0.2845,  0.2685, -0.0203, -0.2268],\n",
       "                      [-0.3979, -0.3950,  0.2629, -0.0615, -0.2587, -0.3146, -1.2804],\n",
       "                      [ 0.4336, -0.3474, -0.0636, -0.8510, -0.5866, -0.0610,  0.5027],\n",
       "                      [-0.2797, -0.3038, -0.0506, -0.2300,  0.0714, -0.3271, -0.0721],\n",
       "                      [ 0.0215,  0.4809,  0.2743, -0.2089,  0.1826,  0.2187, -0.1610],\n",
       "                      [-0.2386, -0.0073, -0.1537,  0.1380,  0.0708, -0.2519,  0.1277],\n",
       "                      [-0.4787, -0.4050,  0.2538, -0.2973, -0.5578, -0.0997, -0.4490],\n",
       "                      [ 0.4436,  0.5909, -0.2217,  0.1942,  0.2307,  0.1587,  0.0236],\n",
       "                      [ 0.0175, -0.3206,  0.1087, -0.2704, -0.3500, -0.3640, -0.4675],\n",
       "                      [-0.2766, -0.2096, -0.2615, -0.2191, -0.1702,  0.0365,  0.1575],\n",
       "                      [-0.1864, -0.2531,  0.2047,  0.0284, -0.2122, -0.0657, -0.0325],\n",
       "                      [-0.0930, -0.2539,  0.1397, -0.0612, -0.1659,  0.1620, -0.1828],\n",
       "                      [ 0.2590, -0.0949,  0.0523,  0.1044, -0.0886,  0.2589, -0.2757]])),\n",
       "             ('fc.0.0.bias',\n",
       "              tensor([-0.2274, -0.3563, -0.0209, -0.4586,  0.4573,  0.1759,  0.0952, -0.3972,\n",
       "                      -0.2291,  0.5292, -0.5565,  0.5025, -0.2744, -0.0432, -0.0541, -0.2642])),\n",
       "             ('fc.1.0.weight',\n",
       "              tensor([[-1.0986e-01, -1.8158e-01, -9.6289e-02,  4.8707e-02,  4.9675e-03,\n",
       "                       -1.7073e-01, -7.9674e-03, -1.5675e-01,  1.6843e-01,  7.0254e-02,\n",
       "                        1.0846e-03,  5.4100e-02,  1.3363e-01,  8.2604e-02,  3.8532e-02,\n",
       "                       -6.6734e-02],\n",
       "                      [ 2.9838e+00,  3.2597e-01, -7.1528e-02,  7.2973e-01, -1.3980e+00,\n",
       "                       -1.4697e+00, -1.2525e-01,  4.5287e-02, -3.8689e-02, -1.6495e+00,\n",
       "                        3.3011e-01, -1.4346e+00,  1.5176e-02,  1.6492e-01,  1.2402e-01,\n",
       "                        1.6494e-01],\n",
       "                      [ 5.8679e-02, -1.2138e-01, -4.9751e-02,  1.3630e-01,  1.6147e-01,\n",
       "                       -1.1431e-01,  1.8652e-02, -1.5589e-01,  1.4617e-01, -1.1776e-01,\n",
       "                        5.3308e-02,  2.9674e-02,  1.7840e-01,  3.1721e-02, -1.7481e-01,\n",
       "                        4.8363e-02],\n",
       "                      [ 1.1362e-01, -2.8138e-02, -1.0548e-01,  1.7662e-01,  4.6813e-02,\n",
       "                       -6.6756e-02, -1.1676e-02,  9.3087e-02, -1.8321e-01, -6.0339e-02,\n",
       "                       -1.1089e-01,  1.1745e-01,  9.1205e-02, -1.3048e-01,  1.1375e-02,\n",
       "                       -4.3861e-02],\n",
       "                      [ 3.1098e+00,  3.3050e-01,  1.3504e-01,  6.8238e-01, -1.7710e+00,\n",
       "                       -1.5011e+00,  2.5084e-02, -1.4813e-04,  7.3226e-02, -1.6850e+00,\n",
       "                        3.6813e-01, -1.3642e+00,  6.0235e-02,  7.5154e-02, -1.5042e-01,\n",
       "                       -1.7417e-01],\n",
       "                      [-1.0793e+00, -5.0057e-01, -2.7961e-02, -2.4351e+00,  5.0442e-01,\n",
       "                        2.6060e-02,  1.9970e-03, -2.1764e-01, -1.1224e-01,  1.7680e+00,\n",
       "                       -1.9888e+00,  2.9573e-01,  1.1335e-01,  1.3556e-01, -1.1619e-01,\n",
       "                        4.2809e-02],\n",
       "                      [-1.3158e+00, -7.7604e-01,  7.5194e-02, -1.7631e+00,  1.6951e-01,\n",
       "                        8.9622e-02, -9.5681e-02, -9.7021e-01, -6.0296e-02,  2.0114e+00,\n",
       "                       -1.9539e+00,  7.7512e-02, -1.1456e-01, -1.3988e-01,  5.4001e-03,\n",
       "                        1.3071e-01],\n",
       "                      [ 3.1919e+00,  3.8516e-01, -5.0452e-02,  6.4107e-01, -1.7436e+00,\n",
       "                       -1.5547e+00, -3.2993e-02,  5.2861e-02,  7.9169e-02, -1.5575e+00,\n",
       "                        4.7100e-01, -1.2395e+00,  1.0296e-01, -4.5834e-02, -7.7797e-02,\n",
       "                        1.7424e-01]])),\n",
       "             ('fc.1.0.bias',\n",
       "              tensor([-0.1557,  0.0363, -0.1754, -0.1776,  0.0548,  0.0511,  0.0732,  0.0440])),\n",
       "             ('fc.2.0.weight',\n",
       "              tensor([[ 0.0117, -2.3741,  0.2349, -0.0701, -2.6904,  0.8045,  1.2337, -2.4043],\n",
       "                      [-0.0308, -0.2252,  0.2008, -0.1269,  0.0553, -0.0375,  0.1456, -0.0437],\n",
       "                      [-0.0775,  0.6009, -0.1786,  0.0604,  0.6138, -2.2899, -2.4516,  0.6567],\n",
       "                      [ 0.1274,  0.7356,  0.1196, -0.1375,  0.5797, -1.4103, -1.6946,  0.5286]])),\n",
       "             ('fc.2.0.bias', tensor([ 0.2154, -0.2759,  0.1655,  0.1338])),\n",
       "             ('fc.3.0.weight', tensor([[ 1.6035, -0.1889, -0.8515, -1.0729],\n",
       "                      [-1.2554, -0.0824,  1.0471,  1.0720]])),\n",
       "             ('fc.3.0.bias', tensor([ 0.2936, -0.7018]))])"
      ]
     },
     "execution_count": 22,
     "metadata": {},
     "output_type": "execute_result"
    }
   ],
   "source": [
    "model.state_dict()"
   ]
  },
  {
   "cell_type": "code",
   "execution_count": 23,
   "metadata": {},
   "outputs": [],
   "source": [
    "torch.save(model.state_dict(), \"../models/weights.pth\")"
   ]
  },
  {
   "cell_type": "code",
   "execution_count": 24,
   "metadata": {},
   "outputs": [],
   "source": [
    "log = {\n",
    "    \"train_cost\": train_cost,\n",
    "    \"test_cost\": test_cost,\n",
    "    \"train_accuracy\": train_accuracy,\n",
    "    \"test_accuracy\": test_accuracy\n",
    "}\n",
    "torch.save(log, \"../models/logs.pth\")"
   ]
  },
  {
   "cell_type": "markdown",
   "metadata": {},
   "source": [
    "# Load Model"
   ]
  },
  {
   "cell_type": "code",
   "execution_count": 25,
   "metadata": {},
   "outputs": [],
   "source": [
    "model = DiabetesClassifier(7,16,8,4,2,dropout=0.2).to(device)"
   ]
  },
  {
   "cell_type": "code",
   "execution_count": 26,
   "metadata": {},
   "outputs": [
    {
     "data": {
      "text/plain": [
       "OrderedDict([('fc.0.0.weight',\n",
       "              tensor([[ 0.1629,  0.0809, -0.0435, -0.2981, -0.3510, -0.2879, -0.0991],\n",
       "                      [ 0.2674, -0.3143, -0.0461, -0.2150, -0.1284,  0.2483, -0.0096],\n",
       "                      [-0.2751, -0.1412, -0.3341,  0.3562, -0.2136, -0.3510,  0.0975],\n",
       "                      [ 0.1502,  0.1673,  0.1498, -0.2589,  0.3270, -0.3672,  0.0268],\n",
       "                      [-0.3596, -0.1465,  0.3306,  0.1573, -0.0705,  0.1743, -0.3475],\n",
       "                      [-0.2290,  0.3015,  0.1703,  0.2153, -0.2188, -0.0285, -0.0698],\n",
       "                      [ 0.3044,  0.0066,  0.2395,  0.3645,  0.1901, -0.0104,  0.3405],\n",
       "                      [ 0.2475, -0.0383,  0.2474, -0.0682,  0.1120,  0.0030, -0.0153],\n",
       "                      [ 0.2827,  0.3751, -0.2341, -0.2156, -0.2045,  0.2318, -0.1620],\n",
       "                      [ 0.3750, -0.1493, -0.2865,  0.2926, -0.2330, -0.0090, -0.2763],\n",
       "                      [ 0.3448, -0.0556,  0.2465, -0.0175,  0.1790,  0.2151,  0.1875],\n",
       "                      [-0.0048, -0.3575, -0.0343, -0.2331, -0.0697, -0.2206,  0.2522],\n",
       "                      [ 0.1186,  0.3265, -0.1594,  0.2395, -0.1266,  0.0919, -0.1802],\n",
       "                      [ 0.1274, -0.3521,  0.2367,  0.2383, -0.2714,  0.3767, -0.3113],\n",
       "                      [-0.2259,  0.2735,  0.3638, -0.3253,  0.3181, -0.0153, -0.0213],\n",
       "                      [ 0.1103, -0.0702, -0.0465,  0.2896,  0.2722,  0.2088, -0.0601]])),\n",
       "             ('fc.0.0.bias',\n",
       "              tensor([-0.1982, -0.3732,  0.0548, -0.2318,  0.2965, -0.0549, -0.1771,  0.3112,\n",
       "                      -0.2373,  0.3301,  0.3756,  0.1525, -0.0330,  0.0213,  0.0282, -0.2266])),\n",
       "             ('fc.1.0.weight',\n",
       "              tensor([[ 0.1551,  0.2397,  0.0059,  0.2218, -0.1033,  0.1417,  0.1683, -0.0651,\n",
       "                       -0.1349,  0.2385, -0.2065, -0.0525, -0.1986,  0.1116, -0.2323,  0.2345],\n",
       "                      [ 0.0257, -0.1953, -0.1881, -0.0977, -0.0637,  0.2321,  0.1647,  0.0784,\n",
       "                        0.1368, -0.0273,  0.1338,  0.1409, -0.2235, -0.0506,  0.0079, -0.2131],\n",
       "                      [-0.1978,  0.0737, -0.1706,  0.0093,  0.0913,  0.1652,  0.1859,  0.1934,\n",
       "                        0.0106, -0.2109,  0.0703,  0.1633, -0.0492, -0.1111, -0.2364, -0.2493],\n",
       "                      [-0.0330, -0.0942, -0.1027,  0.0676,  0.0730,  0.0914,  0.1987, -0.0818,\n",
       "                       -0.1211, -0.0695,  0.1510,  0.1219,  0.0165,  0.2440,  0.2191,  0.1386],\n",
       "                      [-0.0345,  0.0887, -0.1442,  0.1947,  0.1508, -0.0689,  0.1293, -0.0963,\n",
       "                        0.0242,  0.1443,  0.0213,  0.0866,  0.0905,  0.0317, -0.0784, -0.2482],\n",
       "                      [ 0.0373,  0.1773, -0.1917,  0.0029,  0.0542, -0.1454,  0.1394,  0.0737,\n",
       "                       -0.0680,  0.1775,  0.2246, -0.1638,  0.0786, -0.1930, -0.0317,  0.0924],\n",
       "                      [-0.0771, -0.0064,  0.0949, -0.1741, -0.1582,  0.1455,  0.1621, -0.2385,\n",
       "                        0.1973, -0.2211, -0.0208,  0.2289, -0.0030,  0.0184,  0.2171,  0.1695],\n",
       "                      [ 0.1856, -0.1526, -0.1643,  0.1394, -0.0661, -0.1189,  0.2046,  0.0510,\n",
       "                        0.0908, -0.0280, -0.1948, -0.0307, -0.1151,  0.1829, -0.2109,  0.0069]])),\n",
       "             ('fc.1.0.bias',\n",
       "              tensor([ 0.0184,  0.1885, -0.2107,  0.2339,  0.1063,  0.0624,  0.2048, -0.1297])),\n",
       "             ('fc.2.0.weight',\n",
       "              tensor([[ 0.0467, -0.2149, -0.1339,  0.0400, -0.3386, -0.1420,  0.1826,  0.0473],\n",
       "                      [-0.3484, -0.0340,  0.0916,  0.2291,  0.0708,  0.1500, -0.1389,  0.2411],\n",
       "                      [-0.2633, -0.0173, -0.2856, -0.2435,  0.0268,  0.3024, -0.3364, -0.0286],\n",
       "                      [-0.3458,  0.0898,  0.1602,  0.2641, -0.1855,  0.1962, -0.2346,  0.2553]])),\n",
       "             ('fc.2.0.bias', tensor([ 0.0452,  0.2378,  0.2660, -0.1361])),\n",
       "             ('fc.3.0.weight', tensor([[-0.4362,  0.4118,  0.2784, -0.2761],\n",
       "                      [ 0.3305, -0.0330, -0.1149,  0.3086]])),\n",
       "             ('fc.3.0.bias', tensor([0.1419, 0.3165]))])"
      ]
     },
     "execution_count": 26,
     "metadata": {},
     "output_type": "execute_result"
    }
   ],
   "source": [
    "model.state_dict() # ini jelas tidak akan sama, dikarenakan ini adalah weight awal yang \n",
    "# muncul secara random setelah menjalankan arsitektur dari awal."
   ]
  },
  {
   "cell_type": "code",
   "execution_count": 27,
   "metadata": {},
   "outputs": [],
   "source": [
    "weights = torch.load(\"../models/weights.pth\", map_location=\"cpu\")\n",
    "# load secara default harus cpu.\n",
    "# Karena tidak menutup kemungkinan bahwa model tester tidak memiliki gpu pada environment\n",
    "# hardwarenya."
   ]
  },
  {
   "cell_type": "code",
   "execution_count": 28,
   "metadata": {},
   "outputs": [
    {
     "data": {
      "text/plain": [
       "tensor(0.6494)"
      ]
     },
     "execution_count": 28,
     "metadata": {},
     "output_type": "execute_result"
    }
   ],
   "source": [
    "with torch.no_grad():\n",
    "    model.eval()\n",
    "    output = model(X_test)\n",
    "    pred = output.argmax(1)\n",
    "    accuracy = (y_test == pred).to(torch.float32).mean()\n",
    "accuracy\n",
    "# hasil berubah dari hasi awal karena weightnya belum di-overwrite.\n",
    "# Ini dikarenakan random (yang dimaksud adalah random weight, bukan random prediction)"
   ]
  },
  {
   "cell_type": "code",
   "execution_count": 29,
   "metadata": {},
   "outputs": [],
   "source": [
    "model.load_state_dict(weights)\n",
    "model = model.to(device)"
   ]
  },
  {
   "cell_type": "code",
   "execution_count": 30,
   "metadata": {},
   "outputs": [
    {
     "data": {
      "text/plain": [
       "tensor(0.6948)"
      ]
     },
     "execution_count": 30,
     "metadata": {},
     "output_type": "execute_result"
    }
   ],
   "source": [
    "with torch.no_grad():\n",
    "    model.eval()\n",
    "    output = model(X_test)\n",
    "    pred = output.argmax(1)\n",
    "    accuracy = (y_test == pred).to(torch.float32).mean()\n",
    "accuracy"
   ]
  },
  {
   "cell_type": "code",
   "execution_count": 31,
   "metadata": {},
   "outputs": [
    {
     "data": {
      "text/plain": [
       "OrderedDict([('fc.0.0.weight',\n",
       "              tensor([[-1.8135,  0.4516, -0.5251,  0.2819,  0.2978,  0.3603, -0.7864],\n",
       "                      [-0.5458,  0.5265,  0.1959, -0.1876,  0.2073, -0.2463,  0.0902],\n",
       "                      [ 0.1117, -0.1054, -0.0422,  0.2305, -0.2776, -0.0731, -0.0479],\n",
       "                      [ 0.2211,  0.6501, -0.1281, -0.2845,  0.2685, -0.0203, -0.2268],\n",
       "                      [-0.3979, -0.3950,  0.2629, -0.0615, -0.2587, -0.3146, -1.2804],\n",
       "                      [ 0.4336, -0.3474, -0.0636, -0.8510, -0.5866, -0.0610,  0.5027],\n",
       "                      [-0.2797, -0.3038, -0.0506, -0.2300,  0.0714, -0.3271, -0.0721],\n",
       "                      [ 0.0215,  0.4809,  0.2743, -0.2089,  0.1826,  0.2187, -0.1610],\n",
       "                      [-0.2386, -0.0073, -0.1537,  0.1380,  0.0708, -0.2519,  0.1277],\n",
       "                      [-0.4787, -0.4050,  0.2538, -0.2973, -0.5578, -0.0997, -0.4490],\n",
       "                      [ 0.4436,  0.5909, -0.2217,  0.1942,  0.2307,  0.1587,  0.0236],\n",
       "                      [ 0.0175, -0.3206,  0.1087, -0.2704, -0.3500, -0.3640, -0.4675],\n",
       "                      [-0.2766, -0.2096, -0.2615, -0.2191, -0.1702,  0.0365,  0.1575],\n",
       "                      [-0.1864, -0.2531,  0.2047,  0.0284, -0.2122, -0.0657, -0.0325],\n",
       "                      [-0.0930, -0.2539,  0.1397, -0.0612, -0.1659,  0.1620, -0.1828],\n",
       "                      [ 0.2590, -0.0949,  0.0523,  0.1044, -0.0886,  0.2589, -0.2757]])),\n",
       "             ('fc.0.0.bias',\n",
       "              tensor([-0.2274, -0.3563, -0.0209, -0.4586,  0.4573,  0.1759,  0.0952, -0.3972,\n",
       "                      -0.2291,  0.5292, -0.5565,  0.5025, -0.2744, -0.0432, -0.0541, -0.2642])),\n",
       "             ('fc.1.0.weight',\n",
       "              tensor([[-1.0986e-01, -1.8158e-01, -9.6289e-02,  4.8707e-02,  4.9675e-03,\n",
       "                       -1.7073e-01, -7.9674e-03, -1.5675e-01,  1.6843e-01,  7.0254e-02,\n",
       "                        1.0846e-03,  5.4100e-02,  1.3363e-01,  8.2604e-02,  3.8532e-02,\n",
       "                       -6.6734e-02],\n",
       "                      [ 2.9838e+00,  3.2597e-01, -7.1528e-02,  7.2973e-01, -1.3980e+00,\n",
       "                       -1.4697e+00, -1.2525e-01,  4.5287e-02, -3.8689e-02, -1.6495e+00,\n",
       "                        3.3011e-01, -1.4346e+00,  1.5176e-02,  1.6492e-01,  1.2402e-01,\n",
       "                        1.6494e-01],\n",
       "                      [ 5.8679e-02, -1.2138e-01, -4.9751e-02,  1.3630e-01,  1.6147e-01,\n",
       "                       -1.1431e-01,  1.8652e-02, -1.5589e-01,  1.4617e-01, -1.1776e-01,\n",
       "                        5.3308e-02,  2.9674e-02,  1.7840e-01,  3.1721e-02, -1.7481e-01,\n",
       "                        4.8363e-02],\n",
       "                      [ 1.1362e-01, -2.8138e-02, -1.0548e-01,  1.7662e-01,  4.6813e-02,\n",
       "                       -6.6756e-02, -1.1676e-02,  9.3087e-02, -1.8321e-01, -6.0339e-02,\n",
       "                       -1.1089e-01,  1.1745e-01,  9.1205e-02, -1.3048e-01,  1.1375e-02,\n",
       "                       -4.3861e-02],\n",
       "                      [ 3.1098e+00,  3.3050e-01,  1.3504e-01,  6.8238e-01, -1.7710e+00,\n",
       "                       -1.5011e+00,  2.5084e-02, -1.4813e-04,  7.3226e-02, -1.6850e+00,\n",
       "                        3.6813e-01, -1.3642e+00,  6.0235e-02,  7.5154e-02, -1.5042e-01,\n",
       "                       -1.7417e-01],\n",
       "                      [-1.0793e+00, -5.0057e-01, -2.7961e-02, -2.4351e+00,  5.0442e-01,\n",
       "                        2.6060e-02,  1.9970e-03, -2.1764e-01, -1.1224e-01,  1.7680e+00,\n",
       "                       -1.9888e+00,  2.9573e-01,  1.1335e-01,  1.3556e-01, -1.1619e-01,\n",
       "                        4.2809e-02],\n",
       "                      [-1.3158e+00, -7.7604e-01,  7.5194e-02, -1.7631e+00,  1.6951e-01,\n",
       "                        8.9622e-02, -9.5681e-02, -9.7021e-01, -6.0296e-02,  2.0114e+00,\n",
       "                       -1.9539e+00,  7.7512e-02, -1.1456e-01, -1.3988e-01,  5.4001e-03,\n",
       "                        1.3071e-01],\n",
       "                      [ 3.1919e+00,  3.8516e-01, -5.0452e-02,  6.4107e-01, -1.7436e+00,\n",
       "                       -1.5547e+00, -3.2993e-02,  5.2861e-02,  7.9169e-02, -1.5575e+00,\n",
       "                        4.7100e-01, -1.2395e+00,  1.0296e-01, -4.5834e-02, -7.7797e-02,\n",
       "                        1.7424e-01]])),\n",
       "             ('fc.1.0.bias',\n",
       "              tensor([-0.1557,  0.0363, -0.1754, -0.1776,  0.0548,  0.0511,  0.0732,  0.0440])),\n",
       "             ('fc.2.0.weight',\n",
       "              tensor([[ 0.0117, -2.3741,  0.2349, -0.0701, -2.6904,  0.8045,  1.2337, -2.4043],\n",
       "                      [-0.0308, -0.2252,  0.2008, -0.1269,  0.0553, -0.0375,  0.1456, -0.0437],\n",
       "                      [-0.0775,  0.6009, -0.1786,  0.0604,  0.6138, -2.2899, -2.4516,  0.6567],\n",
       "                      [ 0.1274,  0.7356,  0.1196, -0.1375,  0.5797, -1.4103, -1.6946,  0.5286]])),\n",
       "             ('fc.2.0.bias', tensor([ 0.2154, -0.2759,  0.1655,  0.1338])),\n",
       "             ('fc.3.0.weight', tensor([[ 1.6035, -0.1889, -0.8515, -1.0729],\n",
       "                      [-1.2554, -0.0824,  1.0471,  1.0720]])),\n",
       "             ('fc.3.0.bias', tensor([ 0.2936, -0.7018]))])"
      ]
     },
     "execution_count": 31,
     "metadata": {},
     "output_type": "execute_result"
    }
   ],
   "source": [
    "model.state_dict()\n",
    "# Weights sudah mengikuti state yang didapatkan pada training"
   ]
  }
 ],
 "metadata": {
  "kernelspec": {
   "display_name": "jcopdl",
   "language": "python",
   "name": "jcopdl"
  },
  "language_info": {
   "codemirror_mode": {
    "name": "ipython",
    "version": 3
   },
   "file_extension": ".py",
   "mimetype": "text/x-python",
   "name": "python",
   "nbconvert_exporter": "python",
   "pygments_lexer": "ipython3",
   "version": "3.7.6"
  }
 },
 "nbformat": 4,
 "nbformat_minor": 5
}
